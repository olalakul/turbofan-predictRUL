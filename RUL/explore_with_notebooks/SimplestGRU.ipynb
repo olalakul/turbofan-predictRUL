{
 "cells": [
  {
   "cell_type": "code",
   "execution_count": 1,
   "metadata": {
    "ExecuteTime": {
     "end_time": "2020-03-15T11:26:20.401703Z",
     "start_time": "2020-03-15T11:26:20.066681Z"
    }
   },
   "outputs": [],
   "source": [
    "from copy import copy\n",
    "from datetime import datetime  #f'{datetime.today():%m%d_%H%M}'\n",
    "from IPython.display import display, HTML\n",
    "\n",
    "import numpy as np\n",
    "np.set_printoptions(suppress=True)\n",
    "import pandas as pd\n",
    "pd.set_option('display.width', 130)    \n",
    "pd.set_option('display.max_rows', 500)\n",
    "pd.set_option('display.max_columns', 50)    \n",
    "pd.set_option('precision', 3)\n",
    "pd.set_option('display.float_format', lambda x: '%0.4f' % x)\n",
    "import random"
   ]
  },
  {
   "cell_type": "code",
   "execution_count": 2,
   "metadata": {
    "ExecuteTime": {
     "end_time": "2020-03-15T11:26:20.702177Z",
     "start_time": "2020-03-15T11:26:20.402862Z"
    }
   },
   "outputs": [],
   "source": [
    "import matplotlib.pyplot as plt\n",
    "#import warnings\n",
    "#warnings.filterwarnings(\"ignore\", module = \"matplotlib\\..*\" )\n",
    "import logging\n",
    "logging.getLogger('matplotlib').setLevel(logging.ERROR)\n",
    "\n",
    "\n",
    "import seaborn as sns\n",
    "sns.set(font_scale=1.3, style='whitegrid')"
   ]
  },
  {
   "cell_type": "code",
   "execution_count": 3,
   "metadata": {
    "ExecuteTime": {
     "end_time": "2020-03-15T11:26:20.886976Z",
     "start_time": "2020-03-15T11:26:20.703518Z"
    }
   },
   "outputs": [],
   "source": [
    "from sklearn import metrics"
   ]
  },
  {
   "cell_type": "code",
   "execution_count": 4,
   "metadata": {
    "ExecuteTime": {
     "end_time": "2020-03-15T11:26:21.935869Z",
     "start_time": "2020-03-15T11:26:20.888510Z"
    }
   },
   "outputs": [
    {
     "data": {
      "text/plain": [
       "[PhysicalDevice(name='/physical_device:GPU:0', device_type='GPU')]"
      ]
     },
     "execution_count": 4,
     "metadata": {},
     "output_type": "execute_result"
    }
   ],
   "source": [
    "import tensorflow as tf\n",
    "from tensorflow.keras import layers, models, callbacks, optimizers\n",
    "\n",
    "#from tensorflow.keras import backend as K\n",
    "#physical_devices = tf.config.list_physical_devices('GPU')\n",
    "#tf.config.experimental.set_memory_growth(physical_devices[0], enable=True)\n",
    "tf.config.list_physical_devices('GPU')"
   ]
  },
  {
   "cell_type": "code",
   "execution_count": 5,
   "metadata": {
    "ExecuteTime": {
     "end_time": "2020-03-15T11:26:21.949062Z",
     "start_time": "2020-03-15T11:26:21.937302Z"
    }
   },
   "outputs": [],
   "source": [
    "!ln -s -f ../utils/utils.py utils.py\n",
    "import utils\n",
    "#import importlib\n",
    "#importlib.reload(utils)"
   ]
  },
  {
   "cell_type": "markdown",
   "metadata": {},
   "source": [
    "# Data\n",
    "\n",
    "Since eventuially I am aiming at production code, let us \n",
    "\n",
    "* read our data from scratch\n",
    "* remove useless columns \n",
    "* remove settings\n",
    "* define RUL = Remaining Useful Lifetime\n",
    "    \n",
    "as discussed earlier in Part1: Exploratory-Data-Analysis. "
   ]
  },
  {
   "cell_type": "markdown",
   "metadata": {},
   "source": [
    "## Read the data"
   ]
  },
  {
   "cell_type": "markdown",
   "metadata": {},
   "source": [
    "##### Train"
   ]
  },
  {
   "cell_type": "code",
   "execution_count": 6,
   "metadata": {
    "ExecuteTime": {
     "end_time": "2020-03-15T11:26:22.119294Z",
     "start_time": "2020-03-15T11:26:21.950213Z"
    }
   },
   "outputs": [
    {
     "name": "stdout",
     "output_type": "stream",
     "text": [
      "Turbofan train data\n",
      "(20631, 26)\n"
     ]
    },
    {
     "data": {
      "text/html": [
       "<div>\n",
       "<style scoped>\n",
       "    .dataframe tbody tr th:only-of-type {\n",
       "        vertical-align: middle;\n",
       "    }\n",
       "\n",
       "    .dataframe tbody tr th {\n",
       "        vertical-align: top;\n",
       "    }\n",
       "\n",
       "    .dataframe thead th {\n",
       "        text-align: right;\n",
       "    }\n",
       "</style>\n",
       "<table border=\"1\" class=\"dataframe\">\n",
       "  <thead>\n",
       "    <tr style=\"text-align: right;\">\n",
       "      <th></th>\n",
       "      <th>unit</th>\n",
       "      <th>cycle</th>\n",
       "      <th>setting1</th>\n",
       "      <th>setting2</th>\n",
       "      <th>setting3</th>\n",
       "      <th>s1</th>\n",
       "      <th>s2</th>\n",
       "      <th>s3</th>\n",
       "      <th>s4</th>\n",
       "      <th>s5</th>\n",
       "      <th>s6</th>\n",
       "      <th>s7</th>\n",
       "      <th>s8</th>\n",
       "      <th>s9</th>\n",
       "      <th>s10</th>\n",
       "      <th>s11</th>\n",
       "      <th>s12</th>\n",
       "      <th>s13</th>\n",
       "      <th>s14</th>\n",
       "      <th>s15</th>\n",
       "      <th>s16</th>\n",
       "      <th>s17</th>\n",
       "      <th>s18</th>\n",
       "      <th>s19</th>\n",
       "      <th>s20</th>\n",
       "      <th>s21</th>\n",
       "    </tr>\n",
       "  </thead>\n",
       "  <tbody>\n",
       "    <tr>\n",
       "      <th>0</th>\n",
       "      <td>1</td>\n",
       "      <td>1</td>\n",
       "      <td>-0.0007</td>\n",
       "      <td>-0.0004</td>\n",
       "      <td>100.0000</td>\n",
       "      <td>518.6700</td>\n",
       "      <td>641.8200</td>\n",
       "      <td>1589.7000</td>\n",
       "      <td>1400.6000</td>\n",
       "      <td>14.6200</td>\n",
       "      <td>21.6100</td>\n",
       "      <td>554.3600</td>\n",
       "      <td>2388.0600</td>\n",
       "      <td>9046.1900</td>\n",
       "      <td>1.3000</td>\n",
       "      <td>47.4700</td>\n",
       "      <td>521.6600</td>\n",
       "      <td>2388.0200</td>\n",
       "      <td>8138.6200</td>\n",
       "      <td>8.4195</td>\n",
       "      <td>0.0300</td>\n",
       "      <td>392</td>\n",
       "      <td>2388</td>\n",
       "      <td>100.0000</td>\n",
       "      <td>39.0600</td>\n",
       "      <td>23.4190</td>\n",
       "    </tr>\n",
       "    <tr>\n",
       "      <th>1</th>\n",
       "      <td>1</td>\n",
       "      <td>2</td>\n",
       "      <td>0.0019</td>\n",
       "      <td>-0.0003</td>\n",
       "      <td>100.0000</td>\n",
       "      <td>518.6700</td>\n",
       "      <td>642.1500</td>\n",
       "      <td>1591.8200</td>\n",
       "      <td>1403.1400</td>\n",
       "      <td>14.6200</td>\n",
       "      <td>21.6100</td>\n",
       "      <td>553.7500</td>\n",
       "      <td>2388.0400</td>\n",
       "      <td>9044.0700</td>\n",
       "      <td>1.3000</td>\n",
       "      <td>47.4900</td>\n",
       "      <td>522.2800</td>\n",
       "      <td>2388.0700</td>\n",
       "      <td>8131.4900</td>\n",
       "      <td>8.4318</td>\n",
       "      <td>0.0300</td>\n",
       "      <td>392</td>\n",
       "      <td>2388</td>\n",
       "      <td>100.0000</td>\n",
       "      <td>39.0000</td>\n",
       "      <td>23.4236</td>\n",
       "    </tr>\n",
       "    <tr>\n",
       "      <th>2</th>\n",
       "      <td>1</td>\n",
       "      <td>3</td>\n",
       "      <td>-0.0043</td>\n",
       "      <td>0.0003</td>\n",
       "      <td>100.0000</td>\n",
       "      <td>518.6700</td>\n",
       "      <td>642.3500</td>\n",
       "      <td>1587.9900</td>\n",
       "      <td>1404.2000</td>\n",
       "      <td>14.6200</td>\n",
       "      <td>21.6100</td>\n",
       "      <td>554.2600</td>\n",
       "      <td>2388.0800</td>\n",
       "      <td>9052.9400</td>\n",
       "      <td>1.3000</td>\n",
       "      <td>47.2700</td>\n",
       "      <td>522.4200</td>\n",
       "      <td>2388.0300</td>\n",
       "      <td>8133.2300</td>\n",
       "      <td>8.4178</td>\n",
       "      <td>0.0300</td>\n",
       "      <td>390</td>\n",
       "      <td>2388</td>\n",
       "      <td>100.0000</td>\n",
       "      <td>38.9500</td>\n",
       "      <td>23.3442</td>\n",
       "    </tr>\n",
       "    <tr>\n",
       "      <th>3</th>\n",
       "      <td>1</td>\n",
       "      <td>4</td>\n",
       "      <td>0.0007</td>\n",
       "      <td>0.0000</td>\n",
       "      <td>100.0000</td>\n",
       "      <td>518.6700</td>\n",
       "      <td>642.3500</td>\n",
       "      <td>1582.7900</td>\n",
       "      <td>1401.8700</td>\n",
       "      <td>14.6200</td>\n",
       "      <td>21.6100</td>\n",
       "      <td>554.4500</td>\n",
       "      <td>2388.1100</td>\n",
       "      <td>9049.4800</td>\n",
       "      <td>1.3000</td>\n",
       "      <td>47.1300</td>\n",
       "      <td>522.8600</td>\n",
       "      <td>2388.0800</td>\n",
       "      <td>8133.8300</td>\n",
       "      <td>8.3682</td>\n",
       "      <td>0.0300</td>\n",
       "      <td>392</td>\n",
       "      <td>2388</td>\n",
       "      <td>100.0000</td>\n",
       "      <td>38.8800</td>\n",
       "      <td>23.3739</td>\n",
       "    </tr>\n",
       "    <tr>\n",
       "      <th>4</th>\n",
       "      <td>1</td>\n",
       "      <td>5</td>\n",
       "      <td>-0.0019</td>\n",
       "      <td>-0.0002</td>\n",
       "      <td>100.0000</td>\n",
       "      <td>518.6700</td>\n",
       "      <td>642.3700</td>\n",
       "      <td>1582.8500</td>\n",
       "      <td>1406.2200</td>\n",
       "      <td>14.6200</td>\n",
       "      <td>21.6100</td>\n",
       "      <td>554.0000</td>\n",
       "      <td>2388.0600</td>\n",
       "      <td>9055.1500</td>\n",
       "      <td>1.3000</td>\n",
       "      <td>47.2800</td>\n",
       "      <td>522.1900</td>\n",
       "      <td>2388.0400</td>\n",
       "      <td>8133.8000</td>\n",
       "      <td>8.4294</td>\n",
       "      <td>0.0300</td>\n",
       "      <td>393</td>\n",
       "      <td>2388</td>\n",
       "      <td>100.0000</td>\n",
       "      <td>38.9000</td>\n",
       "      <td>23.4044</td>\n",
       "    </tr>\n",
       "  </tbody>\n",
       "</table>\n",
       "</div>"
      ],
      "text/plain": [
       "   unit  cycle  setting1  setting2  setting3       s1       s2        s3        s4      s5      s6       s7        s8        s9  \\\n",
       "0     1      1   -0.0007   -0.0004  100.0000 518.6700 641.8200 1589.7000 1400.6000 14.6200 21.6100 554.3600 2388.0600 9046.1900   \n",
       "1     1      2    0.0019   -0.0003  100.0000 518.6700 642.1500 1591.8200 1403.1400 14.6200 21.6100 553.7500 2388.0400 9044.0700   \n",
       "2     1      3   -0.0043    0.0003  100.0000 518.6700 642.3500 1587.9900 1404.2000 14.6200 21.6100 554.2600 2388.0800 9052.9400   \n",
       "3     1      4    0.0007    0.0000  100.0000 518.6700 642.3500 1582.7900 1401.8700 14.6200 21.6100 554.4500 2388.1100 9049.4800   \n",
       "4     1      5   -0.0019   -0.0002  100.0000 518.6700 642.3700 1582.8500 1406.2200 14.6200 21.6100 554.0000 2388.0600 9055.1500   \n",
       "\n",
       "     s10     s11      s12       s13       s14    s15    s16  s17   s18      s19     s20     s21  \n",
       "0 1.3000 47.4700 521.6600 2388.0200 8138.6200 8.4195 0.0300  392  2388 100.0000 39.0600 23.4190  \n",
       "1 1.3000 47.4900 522.2800 2388.0700 8131.4900 8.4318 0.0300  392  2388 100.0000 39.0000 23.4236  \n",
       "2 1.3000 47.2700 522.4200 2388.0300 8133.2300 8.4178 0.0300  390  2388 100.0000 38.9500 23.3442  \n",
       "3 1.3000 47.1300 522.8600 2388.0800 8133.8300 8.3682 0.0300  392  2388 100.0000 38.8800 23.3739  \n",
       "4 1.3000 47.2800 522.1900 2388.0400 8133.8000 8.4294 0.0300  393  2388 100.0000 38.9000 23.4044  "
      ]
     },
     "execution_count": 6,
     "metadata": {},
     "output_type": "execute_result"
    }
   ],
   "source": [
    "data = pd.read_csv(\"../../data/train_FD001.txt\", sep=r\"\\s+\", index_col=False, header=None)\n",
    "print('Turbofan train data')\n",
    "print(data.shape)\n",
    "data.columns = [\"unit\", \"cycle\"] + [\"setting\"+str(i) for i in (1,2,3)] + [\"s\"+str(i) for i in range(1,22)]\n",
    "units = data[\"unit\"].unique(); \n",
    "data.head()"
   ]
  },
  {
   "cell_type": "code",
   "execution_count": 7,
   "metadata": {
    "ExecuteTime": {
     "end_time": "2020-03-15T11:26:22.187504Z",
     "start_time": "2020-03-15T11:26:22.120545Z"
    }
   },
   "outputs": [],
   "source": [
    "n_sensors = len(utils.useful_sensors)\n",
    "data = data[[c for c in data.columns if c not in (utils.useless_sensors+utils.factor_sensors+utils.settings)]]\n",
    "#data = data[utils.numeric_sensors]"
   ]
  },
  {
   "cell_type": "markdown",
   "metadata": {},
   "source": [
    "##### Test"
   ]
  },
  {
   "cell_type": "code",
   "execution_count": 8,
   "metadata": {
    "ExecuteTime": {
     "end_time": "2020-03-15T11:26:22.289586Z",
     "start_time": "2020-03-15T11:26:22.191221Z"
    }
   },
   "outputs": [],
   "source": [
    "# print('Turbofan test data')\n",
    "# test = pd.read_csv(\"../input/train_FD001.txt\", sep=r\"\\s+\", index_col=False, header=None)\n",
    "# print('Turbofan train data')\n",
    "# print(data.shape)\n",
    "# data.columns = [\"unit\", \"cycle\"] + [\"setting\"+str(i) for i in (1,2,3)] + [\"s\"+str(i) for i in range(1,22)]\n",
    "# units = data[\"unit\"].unique(); \n",
    "# data.head()"
   ]
  },
  {
   "cell_type": "markdown",
   "metadata": {},
   "source": [
    "## Define RUL"
   ]
  },
  {
   "cell_type": "code",
   "execution_count": 9,
   "metadata": {
    "ExecuteTime": {
     "end_time": "2020-03-15T11:26:22.428947Z",
     "start_time": "2020-03-15T11:26:22.292398Z"
    }
   },
   "outputs": [],
   "source": [
    "max_cycle = data[\"cycle\"].groupby(data['unit']).transform('max')\n",
    "data[\"RUL\"] = max_cycle - data[\"cycle\"]"
   ]
  },
  {
   "cell_type": "code",
   "execution_count": 10,
   "metadata": {},
   "outputs": [],
   "source": [
    "#data[\"cycle\"].groupby(data['unit']).transform(len).min()  # 128"
   ]
  },
  {
   "cell_type": "code",
   "execution_count": 11,
   "metadata": {},
   "outputs": [
    {
     "data": {
      "text/plain": [
       "<AxesSubplot:>"
      ]
     },
     "execution_count": 11,
     "metadata": {},
     "output_type": "execute_result"
    },
    {
     "data": {
      "image/png": "[encoded data removed]",
      "text/plain": [
       "<Figure size 432x288 with 1 Axes>"
      ]
     },
     "metadata": {},
     "output_type": "display_data"
    }
   ],
   "source": [
    "data[\"RUL\"].hist(bins=20)"
   ]
  },
  {
   "cell_type": "markdown",
   "metadata": {
    "ExecuteTime": {
     "end_time": "2020-03-14T09:55:50.527648Z",
     "start_time": "2020-03-14T09:55:50.445992Z"
    }
   },
   "source": [
    "## Scaling sensor measurements\n",
    "\n",
    "Nearly each Machine Learning model benefits from appropriate data scaling/normalization. This es especially true for Neural Networks, since it helps to avoid diverging gradient problem. But how the scaling should be done? \n",
    "\n",
    "### Question to discuss: what about MinMaxScaler?\n",
    "\n",
    "In several approaches (for example, at [Hands-On-Artificial-Intelligence-for-IoT](https://github.com/PacktPublishing/Hands-On-Artificial-Intelligence-for-IoT) and also at [umbertogriffo](https://github.com/umbertogriffo/Predictive-Maintenance-using-LSTM)) to the Turbofan problem the scaling is done by using the MinMax scaler. But is this approach appropriate here? \n",
    "\n",
    "Let us think for a moment. As we saw in the exploratory analysis, each unit starts from a slightly different sensor measurement. And this measurement is intrinsically noisy - even for RUL > 100 the measured values vary a bit.\n",
    "\n",
    "Close to the end of the unit's life, the measurement deviates significantly from its normal level. The deviation can be either positive or negative, growing rapidly close to the unit's failure. The final value of measurement significantly varies and essentially carries no useful information. \n",
    "\n",
    "### My choice: Scale sensor measurements by removing the baseline\n",
    "\n",
    "Let us to capture the concept of _baseline_ - measurements that are _normal_  for each sensor. \n",
    "Then prozent deviations from this baseline will be an indicator of the unit RUL."
   ]
  },
  {
   "cell_type": "code",
   "execution_count": 12,
   "metadata": {},
   "outputs": [],
   "source": [
    "#data['RUL'].quantile(0.95)\n",
    "#assert 0<0.05<1"
   ]
  },
  {
   "cell_type": "code",
   "execution_count": 13,
   "metadata": {
    "ExecuteTime": {
     "end_time": "2020-03-15T11:26:22.532345Z",
     "start_time": "2020-03-15T11:26:22.430277Z"
    }
   },
   "outputs": [
    {
     "name": "stdout",
     "output_type": "stream",
     "text": [
      "Baseline (here only for demonstration, for training it will be recalculated only on training data)\n"
     ]
    },
    {
     "data": {
      "text/html": [
       "<table border=\"1\" class=\"dataframe\">\n",
       "  <thead>\n",
       "    <tr style=\"text-align: right;\">\n",
       "      <th></th>\n",
       "      <th>s2</th>\n",
       "      <th>s3</th>\n",
       "      <th>s4</th>\n",
       "      <th>s7</th>\n",
       "      <th>s8</th>\n",
       "      <th>s9</th>\n",
       "      <th>s11</th>\n",
       "      <th>s12</th>\n",
       "      <th>s13</th>\n",
       "      <th>s14</th>\n",
       "      <th>s15</th>\n",
       "      <th>s17</th>\n",
       "      <th>s20</th>\n",
       "      <th>s21</th>\n",
       "    </tr>\n",
       "  </thead>\n",
       "  <tbody>\n",
       "    <tr>\n",
       "      <th>baseline</th>\n",
       "      <td>642.4000</td>\n",
       "      <td>1586.9000</td>\n",
       "      <td>1402.8000</td>\n",
       "      <td>553.9000</td>\n",
       "      <td>2388.1000</td>\n",
       "      <td>9056.1000</td>\n",
       "      <td>47.4000</td>\n",
       "      <td>521.9000</td>\n",
       "      <td>2388.1000</td>\n",
       "      <td>8137.4000</td>\n",
       "      <td>8.4000</td>\n",
       "      <td>392.3000</td>\n",
       "      <td>38.9000</td>\n",
       "      <td>23.4000</td>\n",
       "    </tr>\n",
       "  </tbody>\n",
       "</table>"
      ],
      "text/plain": [
       "<IPython.core.display.HTML object>"
      ]
     },
     "metadata": {},
     "output_type": "display_data"
    }
   ],
   "source": [
    "def get_baseline(data, max_cycle=30, top_RUL=0.05):\n",
    "    if 'cycle' in data.columns:\n",
    "        # assume that each unit in training data has 30 \n",
    "        return data.loc[data.cycle<max_cycle, utils.useful_sensors].mean()\n",
    "    elif 'RUL' in data.columns:\n",
    "        assert 0 < top_RUL <= 0.2, 'top_RUL should be at most 0.2'\n",
    "        # use top-5% RULs as baselines\n",
    "        threshold_RUL = data['RUL'].quantile(1-top_RUL)\n",
    "        return data.loc[data.RUL>threshold_RUL, utils.useful_sensors].mean()\n",
    "    else:\n",
    "        raise KeyError('cannot calculate baseline: neither \"Cycle\" nor \"RUL\" column is data')\n",
    "        return None\n",
    "    \n",
    "print('Baseline (here only for demonstration, for training it will be recalculated only on training data)')\n",
    "baseline = get_baseline(data)\n",
    "#baseline\n",
    "display(HTML(baseline.to_frame(name='baseline').T.round(1).to_html()))"
   ]
  },
  {
   "cell_type": "code",
   "execution_count": 14,
   "metadata": {
    "ExecuteTime": {
     "end_time": "2020-03-15T11:26:22.673697Z",
     "start_time": "2020-03-15T11:26:22.534651Z"
    }
   },
   "outputs": [
    {
     "name": "stdout",
     "output_type": "stream",
     "text": [
      "Scaled sensor measurements (here only for demonstration, for training it will be recalculated with training baseline)\n"
     ]
    },
    {
     "data": {
      "text/html": [
       "<div>\n",
       "<style scoped>\n",
       "    .dataframe tbody tr th:only-of-type {\n",
       "        vertical-align: middle;\n",
       "    }\n",
       "\n",
       "    .dataframe tbody tr th {\n",
       "        vertical-align: top;\n",
       "    }\n",
       "\n",
       "    .dataframe thead th {\n",
       "        text-align: right;\n",
       "    }\n",
       "</style>\n",
       "<table border=\"1\" class=\"dataframe\">\n",
       "  <thead>\n",
       "    <tr style=\"text-align: right;\">\n",
       "      <th></th>\n",
       "      <th>s2</th>\n",
       "      <th>s3</th>\n",
       "      <th>s4</th>\n",
       "      <th>s7</th>\n",
       "      <th>s8</th>\n",
       "      <th>s9</th>\n",
       "      <th>s11</th>\n",
       "      <th>s12</th>\n",
       "      <th>s13</th>\n",
       "      <th>s14</th>\n",
       "      <th>s15</th>\n",
       "      <th>s17</th>\n",
       "      <th>s20</th>\n",
       "      <th>s21</th>\n",
       "    </tr>\n",
       "  </thead>\n",
       "  <tbody>\n",
       "    <tr>\n",
       "      <th>20626</th>\n",
       "      <td>0.1723</td>\n",
       "      <td>0.6988</td>\n",
       "      <td>1.8395</td>\n",
       "      <td>-0.4546</td>\n",
       "      <td>0.0055</td>\n",
       "      <td>0.1042</td>\n",
       "      <td>1.5089</td>\n",
       "      <td>-0.4627</td>\n",
       "      <td>0.0085</td>\n",
       "      <td>0.0027</td>\n",
       "      <td>0.9179</td>\n",
       "      <td>1.2056</td>\n",
       "      <td>-1.1351</td>\n",
       "      <td>-1.6523</td>\n",
       "    </tr>\n",
       "    <tr>\n",
       "      <th>20627</th>\n",
       "      <td>0.1801</td>\n",
       "      <td>1.1096</td>\n",
       "      <td>2.1924</td>\n",
       "      <td>-0.5575</td>\n",
       "      <td>0.0071</td>\n",
       "      <td>0.0997</td>\n",
       "      <td>1.4455</td>\n",
       "      <td>-0.4262</td>\n",
       "      <td>0.0068</td>\n",
       "      <td>-0.0109</td>\n",
       "      <td>1.1353</td>\n",
       "      <td>0.6958</td>\n",
       "      <td>-1.6232</td>\n",
       "      <td>-0.8565</td>\n",
       "    </tr>\n",
       "    <tr>\n",
       "      <th>20628</th>\n",
       "      <td>0.1614</td>\n",
       "      <td>0.9811</td>\n",
       "      <td>1.8074</td>\n",
       "      <td>-0.5431</td>\n",
       "      <td>0.0076</td>\n",
       "      <td>0.1084</td>\n",
       "      <td>1.5511</td>\n",
       "      <td>-0.3630</td>\n",
       "      <td>0.0077</td>\n",
       "      <td>0.0450</td>\n",
       "      <td>1.7376</td>\n",
       "      <td>1.4606</td>\n",
       "      <td>-1.2635</td>\n",
       "      <td>-1.8244</td>\n",
       "    </tr>\n",
       "    <tr>\n",
       "      <th>20629</th>\n",
       "      <td>0.1318</td>\n",
       "      <td>1.1575</td>\n",
       "      <td>1.6898</td>\n",
       "      <td>-0.5900</td>\n",
       "      <td>0.0080</td>\n",
       "      <td>0.1947</td>\n",
       "      <td>2.1846</td>\n",
       "      <td>-0.4282</td>\n",
       "      <td>0.0073</td>\n",
       "      <td>0.0234</td>\n",
       "      <td>1.4323</td>\n",
       "      <td>0.6958</td>\n",
       "      <td>-1.6488</td>\n",
       "      <td>-1.2649</td>\n",
       "    </tr>\n",
       "    <tr>\n",
       "      <th>20630</th>\n",
       "      <td>0.2283</td>\n",
       "      <td>0.8500</td>\n",
       "      <td>2.0897</td>\n",
       "      <td>-0.5702</td>\n",
       "      <td>0.0084</td>\n",
       "      <td>0.0596</td>\n",
       "      <td>1.7834</td>\n",
       "      <td>-0.4991</td>\n",
       "      <td>0.0085</td>\n",
       "      <td>-0.0007</td>\n",
       "      <td>1.0130</td>\n",
       "      <td>0.9507</td>\n",
       "      <td>-1.4434</td>\n",
       "      <td>-1.3154</td>\n",
       "    </tr>\n",
       "  </tbody>\n",
       "</table>\n",
       "</div>"
      ],
      "text/plain": [
       "          s2     s3     s4      s7     s8     s9    s11     s12    s13     s14    s15    s17     s20     s21\n",
       "20626 0.1723 0.6988 1.8395 -0.4546 0.0055 0.1042 1.5089 -0.4627 0.0085  0.0027 0.9179 1.2056 -1.1351 -1.6523\n",
       "20627 0.1801 1.1096 2.1924 -0.5575 0.0071 0.0997 1.4455 -0.4262 0.0068 -0.0109 1.1353 0.6958 -1.6232 -0.8565\n",
       "20628 0.1614 0.9811 1.8074 -0.5431 0.0076 0.1084 1.5511 -0.3630 0.0077  0.0450 1.7376 1.4606 -1.2635 -1.8244\n",
       "20629 0.1318 1.1575 1.6898 -0.5900 0.0080 0.1947 2.1846 -0.4282 0.0073  0.0234 1.4323 0.6958 -1.6488 -1.2649\n",
       "20630 0.2283 0.8500 2.0897 -0.5702 0.0084 0.0596 1.7834 -0.4991 0.0085 -0.0007 1.0130 0.9507 -1.4434 -1.3154"
      ]
     },
     "execution_count": 14,
     "metadata": {},
     "output_type": "execute_result"
    }
   ],
   "source": [
    "def scale_sensors(data, baseline):\n",
    "    return (data[utils.useful_sensors].div(baseline, axis=1)-1)*100 # to_percent\n",
    "print('Scaled sensor measurements (here only for demonstration, for training it will be recalculated with training baseline)')\n",
    "bdata = scale_sensors(data, baseline)\n",
    "bdata.tail()"
   ]
  },
  {
   "cell_type": "markdown",
   "metadata": {},
   "source": [
    "The actual computation will be performed later, using only training subset for determining the baseline."
   ]
  },
  {
   "cell_type": "markdown",
   "metadata": {},
   "source": [
    "##### Keep unit and RUL as variables"
   ]
  },
  {
   "cell_type": "code",
   "execution_count": 15,
   "metadata": {
    "ExecuteTime": {
     "end_time": "2020-03-15T11:26:23.035437Z",
     "start_time": "2020-03-15T11:26:22.929490Z"
    }
   },
   "outputs": [],
   "source": [
    "#bdata.sort_values(by=['unit', 'RUL'], ascending=[True, False], inplace=True)\n",
    "assert all(data.sort_values(by=['unit', 'RUL'], ascending=[True, False])== data)"
   ]
  },
  {
   "cell_type": "code",
   "execution_count": 16,
   "metadata": {
    "ExecuteTime": {
     "end_time": "2020-03-15T11:26:23.371193Z",
     "start_time": "2020-03-15T11:26:23.265059Z"
    }
   },
   "outputs": [],
   "source": [
    "bdata_unit = data['unit'].copy()\n",
    "bdata_RUL = data['RUL'].copy()\n",
    "#bdata_RUL.head()\n",
    "#bdata_RUL.head()"
   ]
  },
  {
   "cell_type": "markdown",
   "metadata": {},
   "source": [
    "# Business insight: regression for logRUL\n",
    "\n",
    "We want to predict the RUL, which is the real value, therefore this is a regression problem. \n",
    "\n",
    "From the business point of view, we want to pay a closer attention to lower RUL values. It does not matter, if the unit will still live 90 or 95 days, correct? But there is a large difference between living 1 and 6 days.\n",
    "\n",
    "To transform this business requirements to mathematical terms, I `log-transform` the RUL. By this term I actually mean the following transfomation \n",
    "\n",
    "$$ logRUL = ln(1. + RUL) $$\n",
    "\n",
    "The value of 1 is added before the log-transform, so that RUL=0 will be transformed to logRUL=0."
   ]
  },
  {
   "cell_type": "code",
   "execution_count": 17,
   "metadata": {
    "ExecuteTime": {
     "end_time": "2020-03-15T11:26:23.472391Z",
     "start_time": "2020-03-15T11:26:23.373659Z"
    }
   },
   "outputs": [],
   "source": [
    "bdata_logRUL = bdata_RUL.apply(np.log1p) # log-transform RemainingUsefulTime"
   ]
  },
  {
   "cell_type": "markdown",
   "metadata": {},
   "source": [
    "# Data split:  Train, validation and test"
   ]
  },
  {
   "cell_type": "markdown",
   "metadata": {},
   "source": [
    "Since our units are independent, the split is made by unit number: \n",
    "\n",
    "* randomly selected 10 units for test\n",
    "* randomly selected (from the rest) 10 for validation\n",
    "* the rest (80 units) for train"
   ]
  },
  {
   "cell_type": "markdown",
   "metadata": {},
   "source": [
    "##### Split units"
   ]
  },
  {
   "cell_type": "markdown",
   "metadata": {},
   "source": [
    "Let us keep all units in one dictionaty - `units_tvt`"
   ]
  },
  {
   "cell_type": "code",
   "execution_count": 18,
   "metadata": {
    "ExecuteTime": {
     "end_time": "2020-03-15T11:26:23.575486Z",
     "start_time": "2020-03-15T11:26:23.474741Z"
    }
   },
   "outputs": [
    {
     "name": "stdout",
     "output_type": "stream",
     "text": [
      "Units for validation [96, 71, 43, 54, 20, 25, 85, 31, 80, 9, 63, 62, 69, 40, 21, 86, 98, 27, 91, 46]\n",
      "Units for holdout [44, 2, 51, 83, 7, 15, 60, 30, 53, 3, 4, 29, 95, 90, 97, 55, 87, 73, 81, 57]\n"
     ]
    }
   ],
   "source": [
    "unique_units = set(bdata_unit.unique().tolist())\n",
    "units_tvt = dict()\n",
    "units_tvt['vali'] = random.sample(list(unique_units), 20)\n",
    "print('Units for validation', units_tvt['vali'])\n",
    "units_tvt['holdout'] = random.sample(list(unique_units - set(units_tvt['vali'])), 20)\n",
    "print('Units for holdout', units_tvt['holdout'])\n",
    "units_tvt['train'] = unique_units - set(units_tvt['vali']) - set(units_tvt['holdout'])"
   ]
  },
  {
   "cell_type": "markdown",
   "metadata": {},
   "source": [
    "##### Baseline on train units only"
   ]
  },
  {
   "cell_type": "code",
   "execution_count": 19,
   "metadata": {
    "ExecuteTime": {
     "end_time": "2020-03-15T11:26:23.709471Z",
     "start_time": "2020-03-15T11:26:23.577517Z"
    }
   },
   "outputs": [
    {
     "name": "stdout",
     "output_type": "stream",
     "text": [
      "Baseline\n"
     ]
    },
    {
     "data": {
      "text/html": [
       "<table border=\"1\" class=\"dataframe\">\n",
       "  <thead>\n",
       "    <tr style=\"text-align: right;\">\n",
       "      <th></th>\n",
       "      <th>s2</th>\n",
       "      <th>s3</th>\n",
       "      <th>s4</th>\n",
       "      <th>s7</th>\n",
       "      <th>s8</th>\n",
       "      <th>s9</th>\n",
       "      <th>s11</th>\n",
       "      <th>s12</th>\n",
       "      <th>s13</th>\n",
       "      <th>s14</th>\n",
       "      <th>s15</th>\n",
       "      <th>s17</th>\n",
       "      <th>s20</th>\n",
       "      <th>s21</th>\n",
       "    </tr>\n",
       "  </thead>\n",
       "  <tbody>\n",
       "    <tr>\n",
       "      <th>baseline</th>\n",
       "      <td>642.4035</td>\n",
       "      <td>1587.1706</td>\n",
       "      <td>1403.2385</td>\n",
       "      <td>553.9191</td>\n",
       "      <td>2388.0636</td>\n",
       "      <td>9055.6426</td>\n",
       "      <td>47.3668</td>\n",
       "      <td>521.8707</td>\n",
       "      <td>2388.0609</td>\n",
       "      <td>8136.8595</td>\n",
       "      <td>8.4191</td>\n",
       "      <td>392.3241</td>\n",
       "      <td>38.9244</td>\n",
       "      <td>23.3557</td>\n",
       "    </tr>\n",
       "  </tbody>\n",
       "</table>"
      ],
      "text/plain": [
       "<IPython.core.display.HTML object>"
      ]
     },
     "metadata": {},
     "output_type": "display_data"
    }
   ],
   "source": [
    "print('Baseline')\n",
    "baseline = get_baseline(data[data.unit.isin(units_tvt['train'])])\n",
    "display(HTML(baseline.to_frame(name='baseline').T.to_html()))"
   ]
  },
  {
   "cell_type": "code",
   "execution_count": 20,
   "metadata": {
    "ExecuteTime": {
     "end_time": "2020-03-15T11:26:23.843965Z",
     "start_time": "2020-03-15T11:26:23.710928Z"
    }
   },
   "outputs": [
    {
     "name": "stdout",
     "output_type": "stream",
     "text": [
      "Scaled sensor measurements\n"
     ]
    },
    {
     "data": {
      "text/html": [
       "<div>\n",
       "<style scoped>\n",
       "    .dataframe tbody tr th:only-of-type {\n",
       "        vertical-align: middle;\n",
       "    }\n",
       "\n",
       "    .dataframe tbody tr th {\n",
       "        vertical-align: top;\n",
       "    }\n",
       "\n",
       "    .dataframe thead th {\n",
       "        text-align: right;\n",
       "    }\n",
       "</style>\n",
       "<table border=\"1\" class=\"dataframe\">\n",
       "  <thead>\n",
       "    <tr style=\"text-align: right;\">\n",
       "      <th></th>\n",
       "      <th>s2</th>\n",
       "      <th>s3</th>\n",
       "      <th>s4</th>\n",
       "      <th>s7</th>\n",
       "      <th>s8</th>\n",
       "      <th>s9</th>\n",
       "      <th>s11</th>\n",
       "      <th>s12</th>\n",
       "      <th>s13</th>\n",
       "      <th>s14</th>\n",
       "      <th>s15</th>\n",
       "      <th>s17</th>\n",
       "      <th>s20</th>\n",
       "      <th>s21</th>\n",
       "    </tr>\n",
       "  </thead>\n",
       "  <tbody>\n",
       "    <tr>\n",
       "      <th>0</th>\n",
       "      <td>-0.0908</td>\n",
       "      <td>0.1594</td>\n",
       "      <td>-0.1880</td>\n",
       "      <td>0.0796</td>\n",
       "      <td>-0.0002</td>\n",
       "      <td>-0.1044</td>\n",
       "      <td>0.2178</td>\n",
       "      <td>-0.0404</td>\n",
       "      <td>-0.0017</td>\n",
       "      <td>0.0216</td>\n",
       "      <td>0.0050</td>\n",
       "      <td>-0.0826</td>\n",
       "      <td>0.3483</td>\n",
       "      <td>0.2709</td>\n",
       "    </tr>\n",
       "    <tr>\n",
       "      <th>1</th>\n",
       "      <td>-0.0395</td>\n",
       "      <td>0.2929</td>\n",
       "      <td>-0.0070</td>\n",
       "      <td>-0.0305</td>\n",
       "      <td>-0.0010</td>\n",
       "      <td>-0.1278</td>\n",
       "      <td>0.2600</td>\n",
       "      <td>0.0784</td>\n",
       "      <td>0.0004</td>\n",
       "      <td>-0.0660</td>\n",
       "      <td>0.1511</td>\n",
       "      <td>-0.0826</td>\n",
       "      <td>0.1941</td>\n",
       "      <td>0.2905</td>\n",
       "    </tr>\n",
       "    <tr>\n",
       "      <th>2</th>\n",
       "      <td>-0.0083</td>\n",
       "      <td>0.0516</td>\n",
       "      <td>0.0685</td>\n",
       "      <td>0.0615</td>\n",
       "      <td>0.0007</td>\n",
       "      <td>-0.0298</td>\n",
       "      <td>-0.2044</td>\n",
       "      <td>0.1053</td>\n",
       "      <td>-0.0013</td>\n",
       "      <td>-0.0446</td>\n",
       "      <td>-0.0152</td>\n",
       "      <td>-0.5924</td>\n",
       "      <td>0.0657</td>\n",
       "      <td>-0.0494</td>\n",
       "    </tr>\n",
       "    <tr>\n",
       "      <th>3</th>\n",
       "      <td>-0.0083</td>\n",
       "      <td>-0.2760</td>\n",
       "      <td>-0.0975</td>\n",
       "      <td>0.0958</td>\n",
       "      <td>0.0019</td>\n",
       "      <td>-0.0681</td>\n",
       "      <td>-0.5000</td>\n",
       "      <td>0.1896</td>\n",
       "      <td>0.0008</td>\n",
       "      <td>-0.0372</td>\n",
       "      <td>-0.6043</td>\n",
       "      <td>-0.0826</td>\n",
       "      <td>-0.1141</td>\n",
       "      <td>0.0778</td>\n",
       "    </tr>\n",
       "    <tr>\n",
       "      <th>4</th>\n",
       "      <td>-0.0052</td>\n",
       "      <td>-0.2722</td>\n",
       "      <td>0.2125</td>\n",
       "      <td>0.0146</td>\n",
       "      <td>-0.0002</td>\n",
       "      <td>-0.0054</td>\n",
       "      <td>-0.1833</td>\n",
       "      <td>0.0612</td>\n",
       "      <td>-0.0009</td>\n",
       "      <td>-0.0376</td>\n",
       "      <td>0.1226</td>\n",
       "      <td>0.1723</td>\n",
       "      <td>-0.0628</td>\n",
       "      <td>0.2083</td>\n",
       "    </tr>\n",
       "  </tbody>\n",
       "</table>\n",
       "</div>"
      ],
      "text/plain": [
       "       s2      s3      s4      s7      s8      s9     s11     s12     s13     s14     s15     s17     s20     s21\n",
       "0 -0.0908  0.1594 -0.1880  0.0796 -0.0002 -0.1044  0.2178 -0.0404 -0.0017  0.0216  0.0050 -0.0826  0.3483  0.2709\n",
       "1 -0.0395  0.2929 -0.0070 -0.0305 -0.0010 -0.1278  0.2600  0.0784  0.0004 -0.0660  0.1511 -0.0826  0.1941  0.2905\n",
       "2 -0.0083  0.0516  0.0685  0.0615  0.0007 -0.0298 -0.2044  0.1053 -0.0013 -0.0446 -0.0152 -0.5924  0.0657 -0.0494\n",
       "3 -0.0083 -0.2760 -0.0975  0.0958  0.0019 -0.0681 -0.5000  0.1896  0.0008 -0.0372 -0.6043 -0.0826 -0.1141  0.0778\n",
       "4 -0.0052 -0.2722  0.2125  0.0146 -0.0002 -0.0054 -0.1833  0.0612 -0.0009 -0.0376  0.1226  0.1723 -0.0628  0.2083"
      ]
     },
     "execution_count": 20,
     "metadata": {},
     "output_type": "execute_result"
    }
   ],
   "source": [
    "print('Scaled sensor measurements')\n",
    "bdata = scale_sensors(data, baseline)\n",
    "bdata.head()"
   ]
  },
  {
   "cell_type": "markdown",
   "metadata": {},
   "source": [
    "## Formulate the business problem: \n",
    "#### how many days of business data for each unit do you have before you need prediction\n",
    "\n",
    "* If you use your equipment long-term it can be many data points for each unit, let us say 64 or more (in this case 64 or more days)\n",
    "* If you test used equipment, you can have only few days, let us say 32 (in this case 32 days)\n",
    "\n",
    "Set the WINDOW_SIZE variable accordingly"
   ]
  },
  {
   "cell_type": "code",
   "execution_count": 21,
   "metadata": {},
   "outputs": [],
   "source": [
    "WINDOW_SIZE = 32"
   ]
  },
  {
   "cell_type": "markdown",
   "metadata": {},
   "source": [
    "### Generating training samples\n",
    "For each unit I sample sequences of WINDOW_SIZE and see what is the RUL for the last day.\n",
    "\n",
    "### Questions to discuss:\n",
    "* How would you approach sampling? \n",
    "* What business consideratons would you consider?\n",
    "* How would you translate this to mathematical language?\n",
    "* Which approach do you see in my code?"
   ]
  },
  {
   "cell_type": "code",
   "execution_count": 22,
   "metadata": {
    "ExecuteTime": {
     "end_time": "2020-03-15T11:26:24.733921Z",
     "start_time": "2020-03-15T11:26:24.615798Z"
    }
   },
   "outputs": [],
   "source": [
    "def gen_random_sequences_various_units(unit_se, df, target_se, seq_length=16, batch_size=32, \n",
    "                                selected_units=None, verbose=False):\n",
    "    \"\"\"\n",
    "    Generates batches to use for model training or validation\n",
    "    Inputs:\n",
    "        unit_se: pd.Series -  unit numbers extracted from train data\n",
    "        df: pd.DataFrame - data frame with scaled data\n",
    "        target_se: pd.Series - logRUL extracted from the train data\n",
    "        seq_length: int - sequence length for the model input\n",
    "        batch_size: int - size of the batch size to generate\n",
    "        selected_units: list - list of units to use, it can be train_units, validation_units \n",
    "    \n",
    "    Output:\n",
    "        xx: (batch_size, seq_length, number_of_columns_in_df) - batch of features\n",
    "        yy: (batch_size,) - ground truth for RUL\n",
    "    \"\"\"\n",
    "    assert len(df.shape) == 2\n",
    "    probs = np.exp(-0.5*target_se[unit_se.isin(selected_units)].values); probs = probs/sum(probs)\n",
    "    tmp = np.hstack([unit_se[unit_se.isin(selected_units)].values.reshape(-1,1),\n",
    "                     target_se[unit_se.isin(selected_units)].values.reshape(-1,1),\n",
    "                     df[unit_se.isin(selected_units)].values])\n",
    "    #display(tmp[:5,:])\n",
    "    \n",
    "    while True:\n",
    "        xx = list()\n",
    "        yy = list()\n",
    "        while len(yy)<batch_size:\n",
    "            stop = np.random.choice(range(len(tmp)), 1, p=probs)[0]\n",
    "            start = stop - seq_length\n",
    "            if tmp[start,0] == tmp[stop,0]: # all data belong to one unit\n",
    "                xx.append(tmp[start:stop,2:])\n",
    "                yy.append(tmp[stop,1])\n",
    "                if verbose:\n",
    "                    print('unit {:.0f}, start {:d}, stop {:d}, RUL {:.0f}'.format(\n",
    "                           tmp[stop,0], start, stop, np.expm1(tmp[stop,1])) )\n",
    "            \n",
    "        yield np.stack(xx), np.stack(yy)"
   ]
  },
  {
   "cell_type": "code",
   "execution_count": 23,
   "metadata": {
    "ExecuteTime": {
     "end_time": "2020-03-15T11:26:24.854213Z",
     "start_time": "2020-03-15T11:26:24.735419Z"
    }
   },
   "outputs": [],
   "source": [
    "data_gen = gen_random_sequences_various_units(unit_se=bdata_unit, df=bdata, target_se=bdata_logRUL, \n",
    "                                       seq_length=WINDOW_SIZE, selected_units=units_tvt['train'],\n",
    "                                       batch_size=8, verbose=True)"
   ]
  },
  {
   "cell_type": "code",
   "execution_count": 24,
   "metadata": {
    "ExecuteTime": {
     "end_time": "2020-03-15T11:26:25.016674Z",
     "start_time": "2020-03-15T11:26:24.856759Z"
    }
   },
   "outputs": [
    {
     "name": "stdout",
     "output_type": "stream",
     "text": [
      "Check that data generator is working by generating several samples\n",
      "unit 100, start 12049, stop 12081, RUL 46\n",
      "unit 78, start 9823, stop 9855, RUL 23\n",
      "unit 22, start 2753, stop 2785, RUL 28\n",
      "unit 32, start 3620, stop 3652, RUL 31\n",
      "unit 92, start 11043, stop 11075, RUL 254\n",
      "unit 58, start 6896, stop 6928, RUL 44\n",
      "unit 42, start 5176, stop 5208, RUL 113\n",
      "unit 41, start 5089, stop 5121, RUL 4\n",
      "shape of xx (8, 32, 14)\n",
      "shape of yy (8,) yy [3.8501476  3.17805383 3.36729583 3.4657359  5.54126355 3.80666249\n",
      " 4.73619845 1.60943791]\n"
     ]
    }
   ],
   "source": [
    "print('Check that data generator is working by generating several samples')\n",
    "xx, yy = next(data_gen)\n",
    "print('shape of xx', xx.shape)\n",
    "print('shape of yy', yy.shape, 'yy', yy)"
   ]
  },
  {
   "cell_type": "markdown",
   "metadata": {},
   "source": [
    "# Building recursive Neural Network with GRU units"
   ]
  },
  {
   "cell_type": "markdown",
   "metadata": {},
   "source": [
    "### Model formulation"
   ]
  },
  {
   "cell_type": "markdown",
   "metadata": {},
   "source": [
    "### Define architecture"
   ]
  },
  {
   "cell_type": "markdown",
   "metadata": {},
   "source": [
    "Let us formulate the model:\n",
    "    \n",
    " * as input it expect sequencies of length WINDOW_SIZE with 14 features\n",
    " * the first layer is GRU layer with 2-3 units to ensure dimensionality reduction of the noisy sensors\n",
    " * following is another GRU with more units to build nonlinear features\n",
    " * the final layer is Dense with 1  output unit, which correesponds to RUL\n",
    "    "
   ]
  },
  {
   "cell_type": "code",
   "execution_count": 25,
   "metadata": {
    "ExecuteTime": {
     "end_time": "2020-03-15T11:26:25.088307Z",
     "start_time": "2020-03-15T11:26:25.018218Z"
    }
   },
   "outputs": [],
   "source": [
    "def make_gru_seq_model(seq_length, n_features, dimred=2, gru_units=8):\n",
    "    input_sensors = layers.Input(shape=(seq_length, n_features), \n",
    "                                 name='input_sensors')\n",
    "    x = layers.Masking(mask_value=0.0)(input_sensors)\n",
    "    x = layers.GRU(units=dimred, return_sequences=True, \n",
    "                   stateful=False, name='dimred')(x)\n",
    "    x = layers.GRU(units=gru_units, return_sequences=False, stateful=False, name='gru1')(x)\n",
    "    RUL = layers.Dense(1, activation=None, name='RUL')(x)\n",
    "    gru1 = models.Model(inputs=input_sensors, outputs=RUL)\n",
    "    return gru1"
   ]
  },
  {
   "cell_type": "code",
   "execution_count": 26,
   "metadata": {
    "ExecuteTime": {
     "end_time": "2020-03-15T22:16:09.105066Z",
     "start_time": "2020-03-15T22:16:08.847589Z"
    }
   },
   "outputs": [
    {
     "name": "stdout",
     "output_type": "stream",
     "text": [
      "Model: \"model\"\n",
      "_________________________________________________________________\n",
      " Layer (type)                Output Shape              Param #   \n",
      "=================================================================\n",
      " input_sensors (InputLayer)  [(None, 32, 14)]          0         \n",
      "                                                                 \n",
      " masking (Masking)           (None, 32, 14)            0         \n",
      "                                                                 \n",
      " dimred (GRU)                (None, 32, 2)             108       \n",
      "                                                                 \n",
      " gru1 (GRU)                  (None, 6)                 180       \n",
      "                                                                 \n",
      " RUL (Dense)                 (None, 1)                 7         \n",
      "                                                                 \n",
      "=================================================================\n",
      "Total params: 295\n",
      "Trainable params: 295\n",
      "Non-trainable params: 0\n",
      "_________________________________________________________________\n"
     ]
    },
    {
     "data": {
      "text/plain": [
       "None"
      ]
     },
     "metadata": {},
     "output_type": "display_data"
    }
   ],
   "source": [
    "WINDOW_SIZE=32\n",
    "dimred=2\n",
    "gru_units=6\n",
    "gru1= make_gru_seq_model(seq_length=WINDOW_SIZE,  n_features=n_sensors,\n",
    "                              dimred=dimred, gru_units=gru_units)\n",
    "display(gru1.summary())"
   ]
  },
  {
   "cell_type": "code",
   "execution_count": 27,
   "metadata": {
    "ExecuteTime": {
     "end_time": "2020-03-15T22:16:10.059788Z",
     "start_time": "2020-03-15T22:16:10.026762Z"
    }
   },
   "outputs": [],
   "source": [
    "gru1.compile(optimizer=optimizers.Adam(1e-3), \n",
    "                 loss='mean_squared_error', metrics=['mae'])"
   ]
  },
  {
   "cell_type": "markdown",
   "metadata": {},
   "source": [
    "### Fit\n",
    "\n",
    "During fit I will \n",
    "\n",
    "* monitor the training process with TensorBoard callback \n",
    "* use EarlyStoppping callback to prevent overfitting\n",
    "* save the best model with ModelCheckpoint callback"
   ]
  },
  {
   "cell_type": "code",
   "execution_count": 28,
   "metadata": {},
   "outputs": [],
   "source": [
    "BATCH_SIZE = 64\n",
    "monitor = 'val_mae'; mode='min'"
   ]
  },
  {
   "cell_type": "code",
   "execution_count": 30,
   "metadata": {
    "ExecuteTime": {
     "end_time": "2020-03-15T22:16:10.674950Z",
     "start_time": "2020-03-15T22:16:10.667272Z"
    }
   },
   "outputs": [
    {
     "name": "stdout",
     "output_type": "stream",
     "text": [
      "Logging directory ../../logs_0202/window32_dimred2_gru6_monitor:val_mae_1412\n"
     ]
    }
   ],
   "source": [
    "log_dir = f'../../logs_{datetime.today():%m%d}/window{WINDOW_SIZE:d}_dimred{dimred:d}_gru{gru_units:d}_monitor:{monitor:s}_{datetime.today():%H%M}'\n",
    "print('Logging directory', log_dir)\n",
    "tensorboard_cb = callbacks.TensorBoard(log_dir=log_dir, histogram_freq=50, write_graph=False,\n",
    "                                      write_grads=False, write_images=True)\n",
    "#\n",
    "reduce_lr = callbacks.ReduceLROnPlateau(monitor=monitor, mode=mode, min_delta=0.001, factor=0.5, patience=10)\n",
    "#\n",
    "early_cb = callbacks.EarlyStopping(monitor=monitor, mode=mode, min_delta=0.001, patience=15, \n",
    "                                   verbose=0, restore_best_weights=True)\n",
    "#\n",
    "model_directory = f'ipynb_models/window{WINDOW_SIZE:d}_dimred{dimred:d}_gru{gru_units:d}_model'\n",
    "best_cb = callbacks.ModelCheckpoint(filepath=model_directory, monitor=monitor, mode=mode, save_best_only=True)"
   ]
  },
  {
   "cell_type": "code",
   "execution_count": 31,
   "metadata": {
    "ExecuteTime": {
     "end_time": "2020-03-15T22:16:11.074430Z",
     "start_time": "2020-03-15T22:16:11.070008Z"
    }
   },
   "outputs": [],
   "source": [
    "data_gen = gen_random_sequences_various_units(unit_se=bdata_unit, df=bdata, target_se=bdata_logRUL, \n",
    "                                              seq_length=WINDOW_SIZE, \n",
    "                                              selected_units=units_tvt['train'], batch_size=BATCH_SIZE)"
   ]
  },
  {
   "cell_type": "code",
   "execution_count": 32,
   "metadata": {
    "ExecuteTime": {
     "end_time": "2020-03-15T22:16:12.312335Z",
     "start_time": "2020-03-15T22:16:12.308139Z"
    }
   },
   "outputs": [],
   "source": [
    "vali_gen = gen_random_sequences_various_units(unit_se=bdata_unit, df=bdata, target_se=bdata_logRUL, \n",
    "                                              seq_length=WINDOW_SIZE, \n",
    "                                              selected_units=units_tvt['vali'], batch_size=BATCH_SIZE)"
   ]
  },
  {
   "cell_type": "code",
   "execution_count": 33,
   "metadata": {
    "ExecuteTime": {
     "end_time": "2020-03-15T22:35:15.080791Z",
     "start_time": "2020-03-15T22:16:12.971894Z"
    },
    "scrolled": true,
    "tags": []
   },
   "outputs": [
    {
     "name": "stdout",
     "output_type": "stream",
     "text": [
      "Epoch 1/100\n",
      "50/50 [==============================] - 18s 160ms/step - loss: 11.3219 - mae: 3.0438 - val_loss: 9.3595 - val_mae: 2.6970 - lr: 0.0010\n",
      "Epoch 2/100\n",
      "50/50 [==============================] - 5s 93ms/step - loss: 6.5608 - mae: 2.1967 - val_loss: 4.4734 - val_mae: 1.7833 - lr: 0.0010\n",
      "Epoch 3/100\n",
      "50/50 [==============================] - 5s 92ms/step - loss: 3.1715 - mae: 1.4820 - val_loss: 2.6153 - val_mae: 1.3268 - lr: 0.0010\n",
      "Epoch 4/100\n",
      "50/50 [==============================] - 5s 93ms/step - loss: 2.3289 - mae: 1.2441 - val_loss: 2.1749 - val_mae: 1.1947 - lr: 0.0010\n",
      "Epoch 5/100\n",
      "50/50 [==============================] - 5s 94ms/step - loss: 2.1474 - mae: 1.1872 - val_loss: 2.0325 - val_mae: 1.1637 - lr: 0.0010\n",
      "Epoch 6/100\n",
      "50/50 [==============================] - 4s 91ms/step - loss: 2.0252 - mae: 1.1557 - val_loss: 2.0550 - val_mae: 1.1589 - lr: 0.0010\n",
      "Epoch 7/100\n",
      "50/50 [==============================] - 5s 92ms/step - loss: 1.9004 - mae: 1.1194 - val_loss: 1.9152 - val_mae: 1.1469 - lr: 0.0010\n",
      "Epoch 8/100\n",
      "50/50 [==============================] - 5s 92ms/step - loss: 1.5830 - mae: 1.0357 - val_loss: 1.4621 - val_mae: 1.0074 - lr: 0.0010\n",
      "Epoch 9/100\n",
      "50/50 [==============================] - 5s 97ms/step - loss: 1.2117 - mae: 0.9138 - val_loss: 1.0089 - val_mae: 0.8435 - lr: 0.0010\n",
      "Epoch 10/100\n",
      "50/50 [==============================] - 5s 99ms/step - loss: 0.6278 - mae: 0.6372 - val_loss: 0.5028 - val_mae: 0.5812 - lr: 0.0010\n",
      "Epoch 11/100\n",
      "50/50 [==============================] - 5s 98ms/step - loss: 0.3701 - mae: 0.4768 - val_loss: 0.3180 - val_mae: 0.4473 - lr: 0.0010\n",
      "Epoch 12/100\n",
      "50/50 [==============================] - 5s 98ms/step - loss: 0.2966 - mae: 0.4281 - val_loss: 0.2869 - val_mae: 0.4303 - lr: 0.0010\n",
      "Epoch 13/100\n",
      "50/50 [==============================] - 5s 99ms/step - loss: 0.2784 - mae: 0.4182 - val_loss: 0.2867 - val_mae: 0.4299 - lr: 0.0010\n",
      "Epoch 14/100\n",
      "50/50 [==============================] - 5s 99ms/step - loss: 0.2796 - mae: 0.4192 - val_loss: 0.2809 - val_mae: 0.4167 - lr: 0.0010\n",
      "Epoch 15/100\n",
      "50/50 [==============================] - 5s 98ms/step - loss: 0.2852 - mae: 0.4224 - val_loss: 0.2792 - val_mae: 0.4245 - lr: 0.0010\n",
      "Epoch 16/100\n",
      "50/50 [==============================] - 5s 100ms/step - loss: 0.2578 - mae: 0.4035 - val_loss: 0.2856 - val_mae: 0.4240 - lr: 0.0010\n",
      "Epoch 17/100\n",
      "50/50 [==============================] - 5s 99ms/step - loss: 0.2569 - mae: 0.4031 - val_loss: 0.2766 - val_mae: 0.4232 - lr: 0.0010\n",
      "Epoch 18/100\n",
      "50/50 [==============================] - 5s 99ms/step - loss: 0.2662 - mae: 0.4111 - val_loss: 0.2728 - val_mae: 0.4241 - lr: 0.0010\n",
      "Epoch 19/100\n",
      "50/50 [==============================] - 5s 100ms/step - loss: 0.2520 - mae: 0.3980 - val_loss: 0.2533 - val_mae: 0.4064 - lr: 0.0010\n",
      "Epoch 20/100\n",
      "50/50 [==============================] - 5s 100ms/step - loss: 0.2547 - mae: 0.4036 - val_loss: 0.2642 - val_mae: 0.4134 - lr: 0.0010\n",
      "Epoch 21/100\n",
      "50/50 [==============================] - 5s 99ms/step - loss: 0.2587 - mae: 0.4025 - val_loss: 0.2796 - val_mae: 0.4227 - lr: 0.0010\n",
      "Epoch 22/100\n",
      "50/50 [==============================] - 5s 98ms/step - loss: 0.2430 - mae: 0.3929 - val_loss: 0.2487 - val_mae: 0.4031 - lr: 0.0010\n",
      "Epoch 23/100\n",
      "50/50 [==============================] - 5s 97ms/step - loss: 0.2616 - mae: 0.4085 - val_loss: 0.2696 - val_mae: 0.4209 - lr: 0.0010\n",
      "Epoch 24/100\n",
      "50/50 [==============================] - 5s 100ms/step - loss: 0.2440 - mae: 0.3931 - val_loss: 0.2373 - val_mae: 0.3846 - lr: 0.0010\n",
      "Epoch 25/100\n",
      "50/50 [==============================] - 5s 99ms/step - loss: 0.2507 - mae: 0.3959 - val_loss: 0.2342 - val_mae: 0.3866 - lr: 0.0010\n",
      "Epoch 26/100\n",
      "50/50 [==============================] - 5s 96ms/step - loss: 0.2366 - mae: 0.3878 - val_loss: 0.2271 - val_mae: 0.3858 - lr: 0.0010\n",
      "Epoch 27/100\n",
      "50/50 [==============================] - 5s 98ms/step - loss: 0.2240 - mae: 0.3764 - val_loss: 0.2544 - val_mae: 0.4120 - lr: 0.0010\n",
      "Epoch 28/100\n",
      "50/50 [==============================] - 5s 99ms/step - loss: 0.2290 - mae: 0.3836 - val_loss: 0.2526 - val_mae: 0.4017 - lr: 0.0010\n",
      "Epoch 29/100\n",
      "50/50 [==============================] - 5s 95ms/step - loss: 0.2444 - mae: 0.3935 - val_loss: 0.2445 - val_mae: 0.4016 - lr: 0.0010\n",
      "Epoch 30/100\n",
      "50/50 [==============================] - 5s 99ms/step - loss: 0.2350 - mae: 0.3840 - val_loss: 0.2412 - val_mae: 0.4006 - lr: 0.0010\n",
      "Epoch 31/100\n",
      "50/50 [==============================] - 5s 98ms/step - loss: 0.2234 - mae: 0.3789 - val_loss: 0.2239 - val_mae: 0.3789 - lr: 0.0010\n",
      "Epoch 32/100\n",
      "50/50 [==============================] - 5s 97ms/step - loss: 0.2273 - mae: 0.3814 - val_loss: 0.2288 - val_mae: 0.3903 - lr: 0.0010\n",
      "Epoch 33/100\n",
      "50/50 [==============================] - 5s 99ms/step - loss: 0.2159 - mae: 0.3714 - val_loss: 0.2112 - val_mae: 0.3704 - lr: 0.0010\n",
      "Epoch 34/100\n",
      "50/50 [==============================] - 5s 101ms/step - loss: 0.2233 - mae: 0.3769 - val_loss: 0.2202 - val_mae: 0.3840 - lr: 0.0010\n",
      "Epoch 35/100\n",
      "50/50 [==============================] - 5s 98ms/step - loss: 0.2093 - mae: 0.3639 - val_loss: 0.2145 - val_mae: 0.3702 - lr: 0.0010\n",
      "Epoch 36/100\n",
      "50/50 [==============================] - 5s 98ms/step - loss: 0.1942 - mae: 0.3530 - val_loss: 0.1965 - val_mae: 0.3535 - lr: 0.0010\n",
      "Epoch 37/100\n",
      "50/50 [==============================] - 5s 97ms/step - loss: 0.1902 - mae: 0.3485 - val_loss: 0.1892 - val_mae: 0.3522 - lr: 0.0010\n",
      "Epoch 38/100\n",
      "50/50 [==============================] - 5s 97ms/step - loss: 0.1862 - mae: 0.3438 - val_loss: 0.1789 - val_mae: 0.3410 - lr: 0.0010\n",
      "Epoch 39/100\n",
      "50/50 [==============================] - 5s 100ms/step - loss: 0.1863 - mae: 0.3416 - val_loss: 0.1919 - val_mae: 0.3556 - lr: 0.0010\n",
      "Epoch 40/100\n",
      "50/50 [==============================] - 5s 100ms/step - loss: 0.1764 - mae: 0.3351 - val_loss: 0.1747 - val_mae: 0.3365 - lr: 0.0010\n",
      "Epoch 41/100\n",
      "50/50 [==============================] - 5s 99ms/step - loss: 0.1773 - mae: 0.3316 - val_loss: 0.1814 - val_mae: 0.3405 - lr: 0.0010\n",
      "Epoch 42/100\n",
      "50/50 [==============================] - 5s 101ms/step - loss: 0.1726 - mae: 0.3321 - val_loss: 0.2290 - val_mae: 0.3735 - lr: 0.0010\n",
      "Epoch 43/100\n",
      "50/50 [==============================] - 5s 98ms/step - loss: 0.1768 - mae: 0.3393 - val_loss: 0.1620 - val_mae: 0.3202 - lr: 0.0010\n",
      "Epoch 44/100\n",
      "50/50 [==============================] - 5s 99ms/step - loss: 0.1702 - mae: 0.3272 - val_loss: 0.1605 - val_mae: 0.3240 - lr: 0.0010\n",
      "Epoch 45/100\n",
      "50/50 [==============================] - 5s 98ms/step - loss: 0.1651 - mae: 0.3227 - val_loss: 0.1715 - val_mae: 0.3372 - lr: 0.0010\n",
      "Epoch 46/100\n",
      "50/50 [==============================] - 5s 97ms/step - loss: 0.1625 - mae: 0.3198 - val_loss: 0.1805 - val_mae: 0.3377 - lr: 0.0010\n",
      "Epoch 47/100\n",
      "50/50 [==============================] - 5s 100ms/step - loss: 0.1615 - mae: 0.3159 - val_loss: 0.1624 - val_mae: 0.3203 - lr: 0.0010\n",
      "Epoch 48/100\n",
      "50/50 [==============================] - 5s 98ms/step - loss: 0.1645 - mae: 0.3221 - val_loss: 0.1663 - val_mae: 0.3290 - lr: 0.0010\n",
      "Epoch 49/100\n",
      "50/50 [==============================] - 5s 101ms/step - loss: 0.1608 - mae: 0.3197 - val_loss: 0.1484 - val_mae: 0.3121 - lr: 0.0010\n",
      "Epoch 50/100\n",
      "50/50 [==============================] - 5s 97ms/step - loss: 0.1553 - mae: 0.3135 - val_loss: 0.1513 - val_mae: 0.3157 - lr: 0.0010\n",
      "Epoch 51/100\n",
      "50/50 [==============================] - 5s 100ms/step - loss: 0.1696 - mae: 0.3266 - val_loss: 0.1775 - val_mae: 0.3328 - lr: 0.0010\n",
      "Epoch 52/100\n",
      "50/50 [==============================] - 5s 98ms/step - loss: 0.1571 - mae: 0.3138 - val_loss: 0.1614 - val_mae: 0.3152 - lr: 0.0010\n",
      "Epoch 53/100\n",
      "50/50 [==============================] - 5s 100ms/step - loss: 0.1594 - mae: 0.3161 - val_loss: 0.1824 - val_mae: 0.3363 - lr: 0.0010\n",
      "Epoch 54/100\n",
      "50/50 [==============================] - 5s 98ms/step - loss: 0.1583 - mae: 0.3157 - val_loss: 0.1612 - val_mae: 0.3173 - lr: 0.0010\n",
      "Epoch 55/100\n",
      "50/50 [==============================] - 5s 99ms/step - loss: 0.1569 - mae: 0.3147 - val_loss: 0.1641 - val_mae: 0.3230 - lr: 0.0010\n",
      "Epoch 56/100\n",
      "50/50 [==============================] - 5s 98ms/step - loss: 0.1527 - mae: 0.3096 - val_loss: 0.1705 - val_mae: 0.3272 - lr: 0.0010\n",
      "Epoch 57/100\n",
      "50/50 [==============================] - 5s 98ms/step - loss: 0.1663 - mae: 0.3211 - val_loss: 0.1494 - val_mae: 0.3116 - lr: 0.0010\n",
      "Epoch 58/100\n",
      "50/50 [==============================] - 5s 100ms/step - loss: 0.1621 - mae: 0.3170 - val_loss: 0.1640 - val_mae: 0.3235 - lr: 0.0010\n",
      "Epoch 59/100\n",
      "50/50 [==============================] - 5s 100ms/step - loss: 0.1540 - mae: 0.3103 - val_loss: 0.1549 - val_mae: 0.3109 - lr: 0.0010\n",
      "Epoch 60/100\n",
      "50/50 [==============================] - 5s 100ms/step - loss: 0.1518 - mae: 0.3059 - val_loss: 0.1530 - val_mae: 0.3132 - lr: 0.0010\n",
      "Epoch 61/100\n",
      "50/50 [==============================] - 5s 100ms/step - loss: 0.1525 - mae: 0.3129 - val_loss: 0.1532 - val_mae: 0.3145 - lr: 0.0010\n",
      "Epoch 62/100\n",
      "50/50 [==============================] - 5s 101ms/step - loss: 0.1502 - mae: 0.3050 - val_loss: 0.1516 - val_mae: 0.3093 - lr: 0.0010\n",
      "Epoch 63/100\n",
      "50/50 [==============================] - 5s 98ms/step - loss: 0.1470 - mae: 0.3034 - val_loss: 0.1471 - val_mae: 0.3071 - lr: 0.0010\n",
      "Epoch 64/100\n",
      "50/50 [==============================] - 5s 100ms/step - loss: 0.1472 - mae: 0.3025 - val_loss: 0.1544 - val_mae: 0.3131 - lr: 0.0010\n",
      "Epoch 65/100\n",
      "50/50 [==============================] - 5s 99ms/step - loss: 0.1550 - mae: 0.3099 - val_loss: 0.1582 - val_mae: 0.3128 - lr: 0.0010\n",
      "Epoch 66/100\n",
      "50/50 [==============================] - 5s 99ms/step - loss: 0.1436 - mae: 0.3007 - val_loss: 0.1495 - val_mae: 0.3064 - lr: 0.0010\n",
      "Epoch 67/100\n",
      "50/50 [==============================] - 5s 97ms/step - loss: 0.1465 - mae: 0.3016 - val_loss: 0.1419 - val_mae: 0.2977 - lr: 0.0010\n",
      "Epoch 68/100\n",
      "50/50 [==============================] - 5s 97ms/step - loss: 0.1418 - mae: 0.2970 - val_loss: 0.1499 - val_mae: 0.3082 - lr: 0.0010\n",
      "Epoch 69/100\n",
      "50/50 [==============================] - 5s 99ms/step - loss: 0.1361 - mae: 0.2898 - val_loss: 0.1424 - val_mae: 0.2978 - lr: 0.0010\n",
      "Epoch 70/100\n",
      "50/50 [==============================] - 5s 100ms/step - loss: 0.1445 - mae: 0.2986 - val_loss: 0.1389 - val_mae: 0.2937 - lr: 0.0010\n",
      "Epoch 71/100\n",
      "50/50 [==============================] - 5s 99ms/step - loss: 0.1440 - mae: 0.3002 - val_loss: 0.1576 - val_mae: 0.3090 - lr: 0.0010\n",
      "Epoch 72/100\n",
      "50/50 [==============================] - 5s 97ms/step - loss: 0.1384 - mae: 0.2941 - val_loss: 0.1475 - val_mae: 0.3056 - lr: 0.0010\n",
      "Epoch 73/100\n",
      "50/50 [==============================] - 5s 104ms/step - loss: 0.1386 - mae: 0.2936 - val_loss: 0.1430 - val_mae: 0.2996 - lr: 0.0010\n",
      "Epoch 74/100\n",
      "50/50 [==============================] - 5s 101ms/step - loss: 0.1325 - mae: 0.2857 - val_loss: 0.1357 - val_mae: 0.2886 - lr: 0.0010\n",
      "Epoch 75/100\n",
      "50/50 [==============================] - 5s 99ms/step - loss: 0.1350 - mae: 0.2902 - val_loss: 0.1477 - val_mae: 0.3057 - lr: 0.0010\n",
      "Epoch 76/100\n",
      "50/50 [==============================] - 5s 99ms/step - loss: 0.1367 - mae: 0.2907 - val_loss: 0.1376 - val_mae: 0.2916 - lr: 0.0010\n",
      "Epoch 77/100\n",
      "50/50 [==============================] - 5s 98ms/step - loss: 0.1379 - mae: 0.2894 - val_loss: 0.1433 - val_mae: 0.3027 - lr: 0.0010\n",
      "Epoch 78/100\n",
      "50/50 [==============================] - 5s 98ms/step - loss: 0.1303 - mae: 0.2840 - val_loss: 0.1381 - val_mae: 0.2960 - lr: 0.0010\n",
      "Epoch 79/100\n",
      "50/50 [==============================] - 5s 99ms/step - loss: 0.1341 - mae: 0.2893 - val_loss: 0.1381 - val_mae: 0.2963 - lr: 0.0010\n",
      "Epoch 80/100\n",
      "50/50 [==============================] - 5s 101ms/step - loss: 0.1330 - mae: 0.2859 - val_loss: 0.1468 - val_mae: 0.2992 - lr: 0.0010\n",
      "Epoch 81/100\n",
      "50/50 [==============================] - 5s 100ms/step - loss: 0.1359 - mae: 0.2936 - val_loss: 0.1376 - val_mae: 0.2920 - lr: 0.0010\n",
      "Epoch 82/100\n",
      "50/50 [==============================] - 5s 99ms/step - loss: 0.1340 - mae: 0.2882 - val_loss: 0.1480 - val_mae: 0.3044 - lr: 0.0010\n",
      "Epoch 83/100\n",
      "50/50 [==============================] - 5s 97ms/step - loss: 0.1398 - mae: 0.2923 - val_loss: 0.1482 - val_mae: 0.2979 - lr: 0.0010\n",
      "Epoch 84/100\n",
      "50/50 [==============================] - 5s 98ms/step - loss: 0.1376 - mae: 0.2891 - val_loss: 0.1327 - val_mae: 0.2870 - lr: 0.0010\n",
      "Epoch 85/100\n",
      "50/50 [==============================] - 5s 98ms/step - loss: 0.1398 - mae: 0.2941 - val_loss: 0.1367 - val_mae: 0.2955 - lr: 0.0010\n",
      "Epoch 86/100\n",
      "50/50 [==============================] - 5s 98ms/step - loss: 0.1342 - mae: 0.2900 - val_loss: 0.1383 - val_mae: 0.2940 - lr: 0.0010\n",
      "Epoch 87/100\n",
      "50/50 [==============================] - 5s 98ms/step - loss: 0.1299 - mae: 0.2838 - val_loss: 0.1268 - val_mae: 0.2800 - lr: 0.0010\n",
      "Epoch 88/100\n",
      "50/50 [==============================] - 5s 98ms/step - loss: 0.1268 - mae: 0.2803 - val_loss: 0.1325 - val_mae: 0.2890 - lr: 0.0010\n",
      "Epoch 89/100\n",
      "50/50 [==============================] - 5s 98ms/step - loss: 0.1292 - mae: 0.2791 - val_loss: 0.1314 - val_mae: 0.2908 - lr: 0.0010\n",
      "Epoch 90/100\n",
      "50/50 [==============================] - 5s 98ms/step - loss: 0.1339 - mae: 0.2852 - val_loss: 0.1408 - val_mae: 0.2976 - lr: 0.0010\n",
      "Epoch 91/100\n",
      "50/50 [==============================] - 5s 97ms/step - loss: 0.1346 - mae: 0.2897 - val_loss: 0.1224 - val_mae: 0.2715 - lr: 0.0010\n",
      "Epoch 92/100\n",
      "50/50 [==============================] - 5s 99ms/step - loss: 0.1290 - mae: 0.2813 - val_loss: 0.1363 - val_mae: 0.2943 - lr: 0.0010\n",
      "Epoch 93/100\n",
      "50/50 [==============================] - 5s 100ms/step - loss: 0.1253 - mae: 0.2792 - val_loss: 0.1754 - val_mae: 0.3203 - lr: 0.0010\n",
      "Epoch 94/100\n",
      "50/50 [==============================] - 5s 98ms/step - loss: 0.1372 - mae: 0.2881 - val_loss: 0.1249 - val_mae: 0.2767 - lr: 0.0010\n",
      "Epoch 95/100\n",
      "50/50 [==============================] - 5s 99ms/step - loss: 0.1218 - mae: 0.2751 - val_loss: 0.1259 - val_mae: 0.2778 - lr: 0.0010\n",
      "Epoch 96/100\n",
      "50/50 [==============================] - 5s 101ms/step - loss: 0.1202 - mae: 0.2704 - val_loss: 0.1228 - val_mae: 0.2801 - lr: 0.0010\n",
      "Epoch 97/100\n",
      "50/50 [==============================] - 5s 99ms/step - loss: 0.1224 - mae: 0.2727 - val_loss: 0.1296 - val_mae: 0.2846 - lr: 0.0010\n",
      "Epoch 98/100\n",
      "50/50 [==============================] - 5s 99ms/step - loss: 0.1254 - mae: 0.2778 - val_loss: 0.1388 - val_mae: 0.2886 - lr: 0.0010\n",
      "Epoch 99/100\n",
      "50/50 [==============================] - 5s 100ms/step - loss: 0.1264 - mae: 0.2805 - val_loss: 0.1227 - val_mae: 0.2777 - lr: 0.0010\n",
      "Epoch 100/100\n",
      "50/50 [==============================] - 5s 98ms/step - loss: 0.1227 - mae: 0.2762 - val_loss: 0.1210 - val_mae: 0.2731 - lr: 0.0010\n"
     ]
    }
   ],
   "source": [
    "hist = gru1.fit(data_gen, epochs=100, steps_per_epoch=50, \n",
    "                validation_data=vali_gen, validation_steps=16,\n",
    "                callbacks=[tensorboard_cb, early_cb, reduce_lr], \n",
    "                verbose=1)"
   ]
  },
  {
   "cell_type": "code",
   "execution_count": 34,
   "metadata": {},
   "outputs": [
    {
     "name": "stderr",
     "output_type": "stream",
     "text": [
      "2022-02-02 14:21:25 WARNING  absl         _initialize_nodes_and_concrete_functions line_263 Found untraced functions such as gru_cell_layer_call_fn, gru_cell_layer_call_and_return_conditional_losses, gru_cell_1_layer_call_fn, gru_cell_1_layer_call_and_return_conditional_losses, gru_cell_layer_call_fn while saving (showing 5 of 10). These functions will not be directly callable after loading.\n"
     ]
    },
    {
     "name": "stdout",
     "output_type": "stream",
     "text": [
      "INFO:tensorflow:Assets written to: ipynb_models/window32_dimred2_gru6_model/assets\n"
     ]
    },
    {
     "name": "stderr",
     "output_type": "stream",
     "text": [
      "2022-02-02 14:21:34 INFO     tensorflow   copy_assets_to_destination_dir line_783 Assets written to: ipynb_models/window32_dimred2_gru6_model/assets\n",
      "2022-02-02 14:21:38 WARNING  absl         generate_keras_metadata line_133 <keras.layers.recurrent.GRUCell object at 0x7fa335f9f5e0> has the same name 'GRUCell' as a built-in Keras object. Consider renaming <class 'keras.layers.recurrent.GRUCell'> to avoid naming conflicts when loading with `tf.keras.models.load_model`. If renaming is not possible, pass the object in the `custom_objects` parameter of the load function.\n",
      "2022-02-02 14:21:38 WARNING  absl         generate_keras_metadata line_133 <keras.layers.recurrent.GRUCell object at 0x7fa335ee6d60> has the same name 'GRUCell' as a built-in Keras object. Consider renaming <class 'keras.layers.recurrent.GRUCell'> to avoid naming conflicts when loading with `tf.keras.models.load_model`. If renaming is not possible, pass the object in the `custom_objects` parameter of the load function.\n"
     ]
    }
   ],
   "source": [
    "gru1.save(model_directory)\n",
    "#list(hist.history.keys())"
   ]
  },
  {
   "cell_type": "code",
   "execution_count": 35,
   "metadata": {},
   "outputs": [
    {
     "name": "stdout",
     "output_type": "stream",
     "text": [
      "loss 0.12265577912330627\n",
      "mae 0.2761695981025696\n",
      "val_loss 0.12101147323846817\n",
      "val_mae 0.27306315302848816\n",
      "lr 0.001\n"
     ]
    }
   ],
   "source": [
    "performance_se = pd.Series(index=hist.history.keys(), dtype=float)\n",
    "for key in hist.history.keys():\n",
    "    performance_se.loc[key] = hist.history[key][-1]\n",
    "    print(key, hist.history[key][-1])"
   ]
  },
  {
   "cell_type": "code",
   "execution_count": 36,
   "metadata": {},
   "outputs": [
    {
     "data": {
      "text/html": [
       "<table border=\"1\" class=\"dataframe\">\n",
       "  <thead>\n",
       "    <tr style=\"text-align: right;\">\n",
       "      <th></th>\n",
       "      <th>train and validation metrics</th>\n",
       "    </tr>\n",
       "  </thead>\n",
       "  <tbody>\n",
       "    <tr>\n",
       "      <th>loss</th>\n",
       "      <td>0.1227</td>\n",
       "    </tr>\n",
       "    <tr>\n",
       "      <th>mae</th>\n",
       "      <td>0.2762</td>\n",
       "    </tr>\n",
       "    <tr>\n",
       "      <th>val_loss</th>\n",
       "      <td>0.1210</td>\n",
       "    </tr>\n",
       "    <tr>\n",
       "      <th>val_mae</th>\n",
       "      <td>0.2731</td>\n",
       "    </tr>\n",
       "    <tr>\n",
       "      <th>lr</th>\n",
       "      <td>0.0010</td>\n",
       "    </tr>\n",
       "  </tbody>\n",
       "</table>"
      ],
      "text/plain": [
       "<IPython.core.display.HTML object>"
      ]
     },
     "execution_count": 36,
     "metadata": {},
     "output_type": "execute_result"
    }
   ],
   "source": [
    "HTML(performance_se.to_frame(name='train and validation metrics').to_html())    "
   ]
  },
  {
   "cell_type": "markdown",
   "metadata": {},
   "source": [
    "### Tensorboard Snippets"
   ]
  },
  {
   "cell_type": "code",
   "execution_count": 37,
   "metadata": {},
   "outputs": [],
   "source": [
    "#%reload_ext tensorboard"
   ]
  },
  {
   "cell_type": "code",
   "execution_count": 38,
   "metadata": {},
   "outputs": [],
   "source": [
    "#%tensorboard --logdir {log_dir}"
   ]
  },
  {
   "cell_type": "markdown",
   "metadata": {},
   "source": [
    "## Read the saved model"
   ]
  },
  {
   "cell_type": "code",
   "execution_count": 39,
   "metadata": {},
   "outputs": [
    {
     "name": "stdout",
     "output_type": "stream",
     "text": [
      "Load the best model ipynb_models/window32_dimred2_gru6_model\n"
     ]
    }
   ],
   "source": [
    "print('Load the best model', model_directory)\n",
    "from tensorflow import keras\n",
    "trained_model = keras.models.load_model(model_directory)\n"
   ]
  },
  {
   "cell_type": "code",
   "execution_count": 40,
   "metadata": {
    "scrolled": true,
    "tags": []
   },
   "outputs": [],
   "source": [
    "#print(dir(trained_model))"
   ]
  },
  {
   "cell_type": "code",
   "execution_count": 41,
   "metadata": {},
   "outputs": [
    {
     "name": "stdout",
     "output_type": "stream",
     "text": [
      "Model: \"model\"\n",
      "_________________________________________________________________\n",
      " Layer (type)                Output Shape              Param #   \n",
      "=================================================================\n",
      " input_sensors (InputLayer)  [(None, 32, 14)]          0         \n",
      "                                                                 \n",
      " masking (Masking)           (None, 32, 14)            0         \n",
      "                                                                 \n",
      " dimred (GRU)                (None, 32, 2)             108       \n",
      "                                                                 \n",
      " gru1 (GRU)                  (None, 6)                 180       \n",
      "                                                                 \n",
      " RUL (Dense)                 (None, 1)                 7         \n",
      "                                                                 \n",
      "=================================================================\n",
      "Total params: 295\n",
      "Trainable params: 295\n",
      "Non-trainable params: 0\n",
      "_________________________________________________________________\n"
     ]
    }
   ],
   "source": [
    "trained_model.summary()"
   ]
  },
  {
   "cell_type": "code",
   "execution_count": 42,
   "metadata": {},
   "outputs": [
    {
     "data": {
      "text/plain": [
       "(None, 32, 14)"
      ]
     },
     "execution_count": 42,
     "metadata": {},
     "output_type": "execute_result"
    }
   ],
   "source": [
    "trained_model.input_shape"
   ]
  },
  {
   "cell_type": "code",
   "execution_count": null,
   "metadata": {},
   "outputs": [],
   "source": []
  },
  {
   "cell_type": "code",
   "execution_count": null,
   "metadata": {},
   "outputs": [],
   "source": []
  },
  {
   "cell_type": "code",
   "execution_count": null,
   "metadata": {},
   "outputs": [],
   "source": []
  },
  {
   "cell_type": "markdown",
   "metadata": {},
   "source": [
    "### Predict and evaluate performance on holdout set"
   ]
  },
  {
   "cell_type": "code",
   "execution_count": 43,
   "metadata": {
    "ExecuteTime": {
     "end_time": "2020-03-15T22:40:10.426499Z",
     "start_time": "2020-03-15T22:40:09.610822Z"
    }
   },
   "outputs": [],
   "source": [
    "holdout_gen = gen_random_sequences_various_units(unit_se=bdata_unit, df=bdata, target_se=bdata_logRUL, \n",
    "                                              seq_length=WINDOW_SIZE, \n",
    "                                              selected_units=units_tvt['holdout'], batch_size=2048)\n",
    "x, ground_truth_y  = next(holdout_gen)\n",
    "predi_y = trained_model.predict(x)"
   ]
  },
  {
   "cell_type": "code",
   "execution_count": 44,
   "metadata": {
    "ExecuteTime": {
     "end_time": "2020-03-15T22:40:10.432360Z",
     "start_time": "2020-03-15T22:40:10.427998Z"
    }
   },
   "outputs": [
    {
     "name": "stdout",
     "output_type": "stream",
     "text": [
      "R2 holdout 0.945\n"
     ]
    }
   ],
   "source": [
    "mae_holdout = metrics.mean_absolute_error(y_pred = predi_y.flatten(), y_true=ground_truth_y.flatten())\n",
    "r2_holdout = metrics.r2_score(y_pred = predi_y.flatten(), y_true=ground_truth_y.flatten())\n",
    "print('R2 holdout {:.3f}'.format(r2_holdout))\n",
    "performance_se.loc['mae_holdout'] = mae_holdout\n",
    "performance_se.loc['r2_holdout'] = r2_holdout"
   ]
  },
  {
   "cell_type": "markdown",
   "metadata": {},
   "source": [
    "### Visualize predictions for holdout data"
   ]
  },
  {
   "cell_type": "code",
   "execution_count": 45,
   "metadata": {
    "ExecuteTime": {
     "end_time": "2020-03-15T22:40:15.922453Z",
     "start_time": "2020-03-15T22:40:15.431896Z"
    },
    "tags": []
   },
   "outputs": [
    {
     "data": {
      "image/png": "[encoded data removed]",
      "text/plain": [
       "<Figure size 1080x504 with 2 Axes>"
      ]
     },
     "metadata": {},
     "output_type": "display_data"
    }
   ],
   "source": [
    "fig = utils.scatter_groundtruth_vs_predicted(absciss=predi_y.flatten(), \n",
    "                                             ordinate=ground_truth_y.flatten())"
   ]
  },
  {
   "cell_type": "markdown",
   "metadata": {},
   "source": [
    "## Predict on the given Turbofan test data"
   ]
  },
  {
   "cell_type": "markdown",
   "metadata": {},
   "source": [
    "### Read data"
   ]
  },
  {
   "cell_type": "code",
   "execution_count": 46,
   "metadata": {
    "ExecuteTime": {
     "end_time": "2020-03-15T20:40:26.315312Z",
     "start_time": "2020-03-15T20:40:26.258304Z"
    },
    "tags": []
   },
   "outputs": [
    {
     "name": "stdout",
     "output_type": "stream",
     "text": [
      "Turbofan test data\n",
      "(13096, 26)\n",
      "(13096, 26)\n"
     ]
    },
    {
     "data": {
      "text/html": [
       "<div>\n",
       "<style scoped>\n",
       "    .dataframe tbody tr th:only-of-type {\n",
       "        vertical-align: middle;\n",
       "    }\n",
       "\n",
       "    .dataframe tbody tr th {\n",
       "        vertical-align: top;\n",
       "    }\n",
       "\n",
       "    .dataframe thead th {\n",
       "        text-align: right;\n",
       "    }\n",
       "</style>\n",
       "<table border=\"1\" class=\"dataframe\">\n",
       "  <thead>\n",
       "    <tr style=\"text-align: right;\">\n",
       "      <th></th>\n",
       "      <th>unit</th>\n",
       "      <th>cycle</th>\n",
       "      <th>setting1</th>\n",
       "      <th>setting2</th>\n",
       "      <th>setting3</th>\n",
       "      <th>s1</th>\n",
       "      <th>s2</th>\n",
       "      <th>s3</th>\n",
       "      <th>s4</th>\n",
       "      <th>s5</th>\n",
       "      <th>s6</th>\n",
       "      <th>s7</th>\n",
       "      <th>s8</th>\n",
       "      <th>s9</th>\n",
       "      <th>s10</th>\n",
       "      <th>s11</th>\n",
       "      <th>s12</th>\n",
       "      <th>s13</th>\n",
       "      <th>s14</th>\n",
       "      <th>s15</th>\n",
       "      <th>s16</th>\n",
       "      <th>s17</th>\n",
       "      <th>s18</th>\n",
       "      <th>s19</th>\n",
       "      <th>s20</th>\n",
       "      <th>s21</th>\n",
       "    </tr>\n",
       "  </thead>\n",
       "  <tbody>\n",
       "    <tr>\n",
       "      <th>0</th>\n",
       "      <td>1</td>\n",
       "      <td>1</td>\n",
       "      <td>0.0023</td>\n",
       "      <td>0.0003</td>\n",
       "      <td>100.0000</td>\n",
       "      <td>518.6700</td>\n",
       "      <td>643.0200</td>\n",
       "      <td>1585.2900</td>\n",
       "      <td>1398.2100</td>\n",
       "      <td>14.6200</td>\n",
       "      <td>21.6100</td>\n",
       "      <td>553.9000</td>\n",
       "      <td>2388.0400</td>\n",
       "      <td>9050.1700</td>\n",
       "      <td>1.3000</td>\n",
       "      <td>47.2000</td>\n",
       "      <td>521.7200</td>\n",
       "      <td>2388.0300</td>\n",
       "      <td>8125.5500</td>\n",
       "      <td>8.4052</td>\n",
       "      <td>0.0300</td>\n",
       "      <td>392</td>\n",
       "      <td>2388</td>\n",
       "      <td>100.0000</td>\n",
       "      <td>38.8600</td>\n",
       "      <td>23.3735</td>\n",
       "    </tr>\n",
       "    <tr>\n",
       "      <th>1</th>\n",
       "      <td>1</td>\n",
       "      <td>2</td>\n",
       "      <td>-0.0027</td>\n",
       "      <td>-0.0003</td>\n",
       "      <td>100.0000</td>\n",
       "      <td>518.6700</td>\n",
       "      <td>641.7100</td>\n",
       "      <td>1588.4500</td>\n",
       "      <td>1395.4200</td>\n",
       "      <td>14.6200</td>\n",
       "      <td>21.6100</td>\n",
       "      <td>554.8500</td>\n",
       "      <td>2388.0100</td>\n",
       "      <td>9054.4200</td>\n",
       "      <td>1.3000</td>\n",
       "      <td>47.5000</td>\n",
       "      <td>522.1600</td>\n",
       "      <td>2388.0600</td>\n",
       "      <td>8139.6200</td>\n",
       "      <td>8.3803</td>\n",
       "      <td>0.0300</td>\n",
       "      <td>393</td>\n",
       "      <td>2388</td>\n",
       "      <td>100.0000</td>\n",
       "      <td>39.0200</td>\n",
       "      <td>23.3916</td>\n",
       "    </tr>\n",
       "    <tr>\n",
       "      <th>2</th>\n",
       "      <td>1</td>\n",
       "      <td>3</td>\n",
       "      <td>0.0003</td>\n",
       "      <td>0.0001</td>\n",
       "      <td>100.0000</td>\n",
       "      <td>518.6700</td>\n",
       "      <td>642.4600</td>\n",
       "      <td>1586.9400</td>\n",
       "      <td>1401.3400</td>\n",
       "      <td>14.6200</td>\n",
       "      <td>21.6100</td>\n",
       "      <td>554.1100</td>\n",
       "      <td>2388.0500</td>\n",
       "      <td>9056.9600</td>\n",
       "      <td>1.3000</td>\n",
       "      <td>47.5000</td>\n",
       "      <td>521.9700</td>\n",
       "      <td>2388.0300</td>\n",
       "      <td>8130.1000</td>\n",
       "      <td>8.4441</td>\n",
       "      <td>0.0300</td>\n",
       "      <td>393</td>\n",
       "      <td>2388</td>\n",
       "      <td>100.0000</td>\n",
       "      <td>39.0800</td>\n",
       "      <td>23.4166</td>\n",
       "    </tr>\n",
       "    <tr>\n",
       "      <th>3</th>\n",
       "      <td>1</td>\n",
       "      <td>4</td>\n",
       "      <td>0.0042</td>\n",
       "      <td>0.0000</td>\n",
       "      <td>100.0000</td>\n",
       "      <td>518.6700</td>\n",
       "      <td>642.4400</td>\n",
       "      <td>1584.1200</td>\n",
       "      <td>1406.4200</td>\n",
       "      <td>14.6200</td>\n",
       "      <td>21.6100</td>\n",
       "      <td>554.0700</td>\n",
       "      <td>2388.0300</td>\n",
       "      <td>9045.2900</td>\n",
       "      <td>1.3000</td>\n",
       "      <td>47.2800</td>\n",
       "      <td>521.3800</td>\n",
       "      <td>2388.0500</td>\n",
       "      <td>8132.9000</td>\n",
       "      <td>8.3917</td>\n",
       "      <td>0.0300</td>\n",
       "      <td>391</td>\n",
       "      <td>2388</td>\n",
       "      <td>100.0000</td>\n",
       "      <td>39.0000</td>\n",
       "      <td>23.3737</td>\n",
       "    </tr>\n",
       "    <tr>\n",
       "      <th>4</th>\n",
       "      <td>1</td>\n",
       "      <td>5</td>\n",
       "      <td>0.0014</td>\n",
       "      <td>0.0000</td>\n",
       "      <td>100.0000</td>\n",
       "      <td>518.6700</td>\n",
       "      <td>642.5100</td>\n",
       "      <td>1587.1900</td>\n",
       "      <td>1401.9200</td>\n",
       "      <td>14.6200</td>\n",
       "      <td>21.6100</td>\n",
       "      <td>554.1600</td>\n",
       "      <td>2388.0100</td>\n",
       "      <td>9044.5500</td>\n",
       "      <td>1.3000</td>\n",
       "      <td>47.3100</td>\n",
       "      <td>522.1500</td>\n",
       "      <td>2388.0300</td>\n",
       "      <td>8129.5400</td>\n",
       "      <td>8.4031</td>\n",
       "      <td>0.0300</td>\n",
       "      <td>390</td>\n",
       "      <td>2388</td>\n",
       "      <td>100.0000</td>\n",
       "      <td>38.9900</td>\n",
       "      <td>23.4130</td>\n",
       "    </tr>\n",
       "  </tbody>\n",
       "</table>\n",
       "</div>"
      ],
      "text/plain": [
       "   unit  cycle  setting1  setting2  setting3       s1       s2        s3        s4      s5      s6       s7        s8        s9  \\\n",
       "0     1      1    0.0023    0.0003  100.0000 518.6700 643.0200 1585.2900 1398.2100 14.6200 21.6100 553.9000 2388.0400 9050.1700   \n",
       "1     1      2   -0.0027   -0.0003  100.0000 518.6700 641.7100 1588.4500 1395.4200 14.6200 21.6100 554.8500 2388.0100 9054.4200   \n",
       "2     1      3    0.0003    0.0001  100.0000 518.6700 642.4600 1586.9400 1401.3400 14.6200 21.6100 554.1100 2388.0500 9056.9600   \n",
       "3     1      4    0.0042    0.0000  100.0000 518.6700 642.4400 1584.1200 1406.4200 14.6200 21.6100 554.0700 2388.0300 9045.2900   \n",
       "4     1      5    0.0014    0.0000  100.0000 518.6700 642.5100 1587.1900 1401.9200 14.6200 21.6100 554.1600 2388.0100 9044.5500   \n",
       "\n",
       "     s10     s11      s12       s13       s14    s15    s16  s17   s18      s19     s20     s21  \n",
       "0 1.3000 47.2000 521.7200 2388.0300 8125.5500 8.4052 0.0300  392  2388 100.0000 38.8600 23.3735  \n",
       "1 1.3000 47.5000 522.1600 2388.0600 8139.6200 8.3803 0.0300  393  2388 100.0000 39.0200 23.3916  \n",
       "2 1.3000 47.5000 521.9700 2388.0300 8130.1000 8.4441 0.0300  393  2388 100.0000 39.0800 23.4166  \n",
       "3 1.3000 47.2800 521.3800 2388.0500 8132.9000 8.3917 0.0300  391  2388 100.0000 39.0000 23.3737  \n",
       "4 1.3000 47.3100 522.1500 2388.0300 8129.5400 8.4031 0.0300  390  2388 100.0000 38.9900 23.4130  "
      ]
     },
     "execution_count": 46,
     "metadata": {},
     "output_type": "execute_result"
    }
   ],
   "source": [
    "test = pd.read_csv(\"../../data/test_FD001.txt\", sep=r\"\\s+\", index_col=False, header=None)\n",
    "print('Turbofan test data')\n",
    "print(test.shape)\n",
    "test.columns = [\"unit\", \"cycle\"] + [\"setting\"+str(i) for i in (1,2,3)] + [\"s\"+str(i) for i in range(1,22)]\n",
    "#units = data[\"unit\"].unique(); \n",
    "print(test.shape)\n",
    "test.head()"
   ]
  },
  {
   "cell_type": "code",
   "execution_count": 47,
   "metadata": {},
   "outputs": [
    {
     "name": "stdout",
     "output_type": "stream",
     "text": [
      "How many points (=days) are available for each unit?\n"
     ]
    },
    {
     "data": {
      "image/png": "[encoded data removed]",
      "text/plain": [
       "<Figure size 432x288 with 1 Axes>"
      ]
     },
     "metadata": {},
     "output_type": "display_data"
    }
   ],
   "source": [
    "print('How many points (=days) are available for each unit?')\n",
    "days_per_unit = test.groupby('unit')['cycle'].apply(max)\n",
    "days_per_unit.hist(bins=10, label='number of units');"
   ]
  },
  {
   "cell_type": "code",
   "execution_count": 48,
   "metadata": {
    "ExecuteTime": {
     "end_time": "2020-03-15T20:40:28.843731Z",
     "start_time": "2020-03-15T20:40:28.823508Z"
    }
   },
   "outputs": [
    {
     "name": "stdout",
     "output_type": "stream",
     "text": [
      "Turbofan RUL for test data\n",
      "(100, 2)\n"
     ]
    },
    {
     "data": {
      "text/html": [
       "<div>\n",
       "<style scoped>\n",
       "    .dataframe tbody tr th:only-of-type {\n",
       "        vertical-align: middle;\n",
       "    }\n",
       "\n",
       "    .dataframe tbody tr th {\n",
       "        vertical-align: top;\n",
       "    }\n",
       "\n",
       "    .dataframe thead th {\n",
       "        text-align: right;\n",
       "    }\n",
       "</style>\n",
       "<table border=\"1\" class=\"dataframe\">\n",
       "  <thead>\n",
       "    <tr style=\"text-align: right;\">\n",
       "      <th></th>\n",
       "      <th>unit</th>\n",
       "      <th>RUL</th>\n",
       "    </tr>\n",
       "  </thead>\n",
       "  <tbody>\n",
       "    <tr>\n",
       "      <th>0</th>\n",
       "      <td>1</td>\n",
       "      <td>112</td>\n",
       "    </tr>\n",
       "    <tr>\n",
       "      <th>1</th>\n",
       "      <td>2</td>\n",
       "      <td>98</td>\n",
       "    </tr>\n",
       "    <tr>\n",
       "      <th>2</th>\n",
       "      <td>3</td>\n",
       "      <td>69</td>\n",
       "    </tr>\n",
       "    <tr>\n",
       "      <th>3</th>\n",
       "      <td>4</td>\n",
       "      <td>82</td>\n",
       "    </tr>\n",
       "    <tr>\n",
       "      <th>4</th>\n",
       "      <td>5</td>\n",
       "      <td>91</td>\n",
       "    </tr>\n",
       "  </tbody>\n",
       "</table>\n",
       "</div>"
      ],
      "text/plain": [
       "   unit  RUL\n",
       "0     1  112\n",
       "1     2   98\n",
       "2     3   69\n",
       "3     4   82\n",
       "4     5   91"
      ]
     },
     "execution_count": 48,
     "metadata": {},
     "output_type": "execute_result"
    }
   ],
   "source": [
    "test_RUL = pd.read_csv(\"../../data/RUL_FD001.txt\", sep=r\"\\s+\", index_col=False, header=None)\n",
    "test_RUL.reset_index(inplace=True)\n",
    "test_RUL.columns=['unit', 'RUL']\n",
    "test_RUL['unit'] += 1\n",
    "print('Turbofan RUL for test data')\n",
    "print(test_RUL.shape)\n",
    "test_RUL.head()"
   ]
  },
  {
   "cell_type": "markdown",
   "metadata": {},
   "source": [
    "### Scale sensors"
   ]
  },
  {
   "cell_type": "code",
   "execution_count": 49,
   "metadata": {
    "ExecuteTime": {
     "end_time": "2020-03-15T20:40:32.516961Z",
     "start_time": "2020-03-15T20:40:32.487486Z"
    }
   },
   "outputs": [
    {
     "name": "stdout",
     "output_type": "stream",
     "text": [
      "Scaled sensor measurements. Baseline for each sensor is known from training data!\n"
     ]
    },
    {
     "data": {
      "text/html": [
       "<div>\n",
       "<style scoped>\n",
       "    .dataframe tbody tr th:only-of-type {\n",
       "        vertical-align: middle;\n",
       "    }\n",
       "\n",
       "    .dataframe tbody tr th {\n",
       "        vertical-align: top;\n",
       "    }\n",
       "\n",
       "    .dataframe thead th {\n",
       "        text-align: right;\n",
       "    }\n",
       "</style>\n",
       "<table border=\"1\" class=\"dataframe\">\n",
       "  <thead>\n",
       "    <tr style=\"text-align: right;\">\n",
       "      <th></th>\n",
       "      <th>s2</th>\n",
       "      <th>s3</th>\n",
       "      <th>s4</th>\n",
       "      <th>s7</th>\n",
       "      <th>s8</th>\n",
       "      <th>s9</th>\n",
       "      <th>s11</th>\n",
       "      <th>s12</th>\n",
       "      <th>s13</th>\n",
       "      <th>s14</th>\n",
       "      <th>s15</th>\n",
       "      <th>s17</th>\n",
       "      <th>s20</th>\n",
       "      <th>s21</th>\n",
       "    </tr>\n",
       "  </thead>\n",
       "  <tbody>\n",
       "    <tr>\n",
       "      <th>0</th>\n",
       "      <td>0.0960</td>\n",
       "      <td>-0.1185</td>\n",
       "      <td>-0.3584</td>\n",
       "      <td>-0.0034</td>\n",
       "      <td>-0.0010</td>\n",
       "      <td>-0.0604</td>\n",
       "      <td>-0.3522</td>\n",
       "      <td>-0.0289</td>\n",
       "      <td>-0.0013</td>\n",
       "      <td>-0.1390</td>\n",
       "      <td>-0.1648</td>\n",
       "      <td>-0.0826</td>\n",
       "      <td>-0.1655</td>\n",
       "      <td>0.0760</td>\n",
       "    </tr>\n",
       "    <tr>\n",
       "      <th>1</th>\n",
       "      <td>-0.1080</td>\n",
       "      <td>0.0806</td>\n",
       "      <td>-0.5572</td>\n",
       "      <td>0.1681</td>\n",
       "      <td>-0.0022</td>\n",
       "      <td>-0.0135</td>\n",
       "      <td>0.2811</td>\n",
       "      <td>0.0554</td>\n",
       "      <td>-0.0000</td>\n",
       "      <td>0.0339</td>\n",
       "      <td>-0.4606</td>\n",
       "      <td>0.1723</td>\n",
       "      <td>0.2455</td>\n",
       "      <td>0.1535</td>\n",
       "    </tr>\n",
       "    <tr>\n",
       "      <th>2</th>\n",
       "      <td>0.0088</td>\n",
       "      <td>-0.0145</td>\n",
       "      <td>-0.1353</td>\n",
       "      <td>0.0345</td>\n",
       "      <td>-0.0006</td>\n",
       "      <td>0.0145</td>\n",
       "      <td>0.2811</td>\n",
       "      <td>0.0190</td>\n",
       "      <td>-0.0013</td>\n",
       "      <td>-0.0831</td>\n",
       "      <td>0.2972</td>\n",
       "      <td>0.1723</td>\n",
       "      <td>0.3997</td>\n",
       "      <td>0.2606</td>\n",
       "    </tr>\n",
       "    <tr>\n",
       "      <th>3</th>\n",
       "      <td>0.0057</td>\n",
       "      <td>-0.1922</td>\n",
       "      <td>0.2267</td>\n",
       "      <td>0.0272</td>\n",
       "      <td>-0.0014</td>\n",
       "      <td>-0.1143</td>\n",
       "      <td>-0.1833</td>\n",
       "      <td>-0.0940</td>\n",
       "      <td>-0.0005</td>\n",
       "      <td>-0.0487</td>\n",
       "      <td>-0.3252</td>\n",
       "      <td>-0.3375</td>\n",
       "      <td>0.1941</td>\n",
       "      <td>0.0769</td>\n",
       "    </tr>\n",
       "    <tr>\n",
       "      <th>4</th>\n",
       "      <td>0.0166</td>\n",
       "      <td>0.0012</td>\n",
       "      <td>-0.0940</td>\n",
       "      <td>0.0435</td>\n",
       "      <td>-0.0022</td>\n",
       "      <td>-0.1225</td>\n",
       "      <td>-0.1200</td>\n",
       "      <td>0.0535</td>\n",
       "      <td>-0.0013</td>\n",
       "      <td>-0.0900</td>\n",
       "      <td>-0.1898</td>\n",
       "      <td>-0.5924</td>\n",
       "      <td>0.1685</td>\n",
       "      <td>0.2452</td>\n",
       "    </tr>\n",
       "    <tr>\n",
       "      <th>...</th>\n",
       "      <td>...</td>\n",
       "      <td>...</td>\n",
       "      <td>...</td>\n",
       "      <td>...</td>\n",
       "      <td>...</td>\n",
       "      <td>...</td>\n",
       "      <td>...</td>\n",
       "      <td>...</td>\n",
       "      <td>...</td>\n",
       "      <td>...</td>\n",
       "      <td>...</td>\n",
       "      <td>...</td>\n",
       "      <td>...</td>\n",
       "      <td>...</td>\n",
       "    </tr>\n",
       "    <tr>\n",
       "      <th>13091</th>\n",
       "      <td>0.1302</td>\n",
       "      <td>0.7737</td>\n",
       "      <td>0.8945</td>\n",
       "      <td>-0.0919</td>\n",
       "      <td>-0.0018</td>\n",
       "      <td>0.9577</td>\n",
       "      <td>0.6823</td>\n",
       "      <td>-0.2262</td>\n",
       "      <td>-0.0026</td>\n",
       "      <td>0.9392</td>\n",
       "      <td>0.6227</td>\n",
       "      <td>0.4272</td>\n",
       "      <td>-0.7050</td>\n",
       "      <td>-0.6779</td>\n",
       "    </tr>\n",
       "    <tr>\n",
       "      <th>13092</th>\n",
       "      <td>0.1271</td>\n",
       "      <td>0.5368</td>\n",
       "      <td>1.3406</td>\n",
       "      <td>-0.1262</td>\n",
       "      <td>-0.0006</td>\n",
       "      <td>0.9391</td>\n",
       "      <td>0.4922</td>\n",
       "      <td>-0.1573</td>\n",
       "      <td>0.0012</td>\n",
       "      <td>0.9093</td>\n",
       "      <td>0.3816</td>\n",
       "      <td>0.6821</td>\n",
       "      <td>-0.9106</td>\n",
       "      <td>-0.3367</td>\n",
       "    </tr>\n",
       "    <tr>\n",
       "      <th>13093</th>\n",
       "      <td>0.1613</td>\n",
       "      <td>0.3767</td>\n",
       "      <td>0.2552</td>\n",
       "      <td>-0.1587</td>\n",
       "      <td>0.0019</td>\n",
       "      <td>1.0067</td>\n",
       "      <td>0.4289</td>\n",
       "      <td>-0.1324</td>\n",
       "      <td>-0.0009</td>\n",
       "      <td>0.9879</td>\n",
       "      <td>0.4493</td>\n",
       "      <td>0.6821</td>\n",
       "      <td>-0.7821</td>\n",
       "      <td>-0.6450</td>\n",
       "    </tr>\n",
       "    <tr>\n",
       "      <th>13094</th>\n",
       "      <td>0.1333</td>\n",
       "      <td>0.4927</td>\n",
       "      <td>1.1489</td>\n",
       "      <td>-0.0991</td>\n",
       "      <td>0.0003</td>\n",
       "      <td>1.0293</td>\n",
       "      <td>0.5134</td>\n",
       "      <td>-0.1036</td>\n",
       "      <td>0.0008</td>\n",
       "      <td>1.0277</td>\n",
       "      <td>0.6179</td>\n",
       "      <td>0.6821</td>\n",
       "      <td>-0.6793</td>\n",
       "      <td>-0.3675</td>\n",
       "    </tr>\n",
       "    <tr>\n",
       "      <th>13095</th>\n",
       "      <td>0.0851</td>\n",
       "      <td>0.9104</td>\n",
       "      <td>1.5501</td>\n",
       "      <td>-0.2598</td>\n",
       "      <td>-0.0002</td>\n",
       "      <td>1.0975</td>\n",
       "      <td>0.9145</td>\n",
       "      <td>-0.1534</td>\n",
       "      <td>-0.0005</td>\n",
       "      <td>0.9559</td>\n",
       "      <td>0.8460</td>\n",
       "      <td>0.9369</td>\n",
       "      <td>-0.5766</td>\n",
       "      <td>-0.7289</td>\n",
       "    </tr>\n",
       "  </tbody>\n",
       "</table>\n",
       "<p>13096 rows × 14 columns</p>\n",
       "</div>"
      ],
      "text/plain": [
       "           s2      s3      s4      s7      s8      s9     s11     s12     s13     s14     s15     s17     s20     s21\n",
       "0      0.0960 -0.1185 -0.3584 -0.0034 -0.0010 -0.0604 -0.3522 -0.0289 -0.0013 -0.1390 -0.1648 -0.0826 -0.1655  0.0760\n",
       "1     -0.1080  0.0806 -0.5572  0.1681 -0.0022 -0.0135  0.2811  0.0554 -0.0000  0.0339 -0.4606  0.1723  0.2455  0.1535\n",
       "2      0.0088 -0.0145 -0.1353  0.0345 -0.0006  0.0145  0.2811  0.0190 -0.0013 -0.0831  0.2972  0.1723  0.3997  0.2606\n",
       "3      0.0057 -0.1922  0.2267  0.0272 -0.0014 -0.1143 -0.1833 -0.0940 -0.0005 -0.0487 -0.3252 -0.3375  0.1941  0.0769\n",
       "4      0.0166  0.0012 -0.0940  0.0435 -0.0022 -0.1225 -0.1200  0.0535 -0.0013 -0.0900 -0.1898 -0.5924  0.1685  0.2452\n",
       "...       ...     ...     ...     ...     ...     ...     ...     ...     ...     ...     ...     ...     ...     ...\n",
       "13091  0.1302  0.7737  0.8945 -0.0919 -0.0018  0.9577  0.6823 -0.2262 -0.0026  0.9392  0.6227  0.4272 -0.7050 -0.6779\n",
       "13092  0.1271  0.5368  1.3406 -0.1262 -0.0006  0.9391  0.4922 -0.1573  0.0012  0.9093  0.3816  0.6821 -0.9106 -0.3367\n",
       "13093  0.1613  0.3767  0.2552 -0.1587  0.0019  1.0067  0.4289 -0.1324 -0.0009  0.9879  0.4493  0.6821 -0.7821 -0.6450\n",
       "13094  0.1333  0.4927  1.1489 -0.0991  0.0003  1.0293  0.5134 -0.1036  0.0008  1.0277  0.6179  0.6821 -0.6793 -0.3675\n",
       "13095  0.0851  0.9104  1.5501 -0.2598 -0.0002  1.0975  0.9145 -0.1534 -0.0005  0.9559  0.8460  0.9369 -0.5766 -0.7289\n",
       "\n",
       "[13096 rows x 14 columns]"
      ]
     },
     "execution_count": 49,
     "metadata": {},
     "output_type": "execute_result"
    }
   ],
   "source": [
    "print('Scaled sensor measurements. Baseline for each sensor is known from training data!')\n",
    "btest = scale_sensors(test, baseline)\n",
    "btest"
   ]
  },
  {
   "cell_type": "code",
   "execution_count": 50,
   "metadata": {},
   "outputs": [],
   "source": [
    "from keras.preprocessing.sequence import pad_sequences\n",
    "\n",
    "def generate_padding_input(WINDOW_SIZE):\n",
    "    def padding_input(sequences):\n",
    "        #sequence1 = np.expand_dims(sequence,0)\n",
    "        return pad_sequences(sequences, maxlen=WINDOW_SIZE, dtype=float, \n",
    "                            padding='pre', truncating='pre', value=0.0)\n",
    "    return padding_input    \n",
    "    \n",
    "padding = generate_padding_input(WINDOW_SIZE)    "
   ]
  },
  {
   "cell_type": "code",
   "execution_count": 51,
   "metadata": {},
   "outputs": [],
   "source": [
    "#list_of_sequences = [btest[test['unit']==unit].values for unit in test_RUL['unit'].to_list()]\n",
    "#len(list_of_sequences)"
   ]
  },
  {
   "cell_type": "code",
   "execution_count": 52,
   "metadata": {},
   "outputs": [
    {
     "name": "stdout",
     "output_type": "stream",
     "text": [
      "(100, 32, 14)\n"
     ]
    }
   ],
   "source": [
    "btest_WINDOW_SIZE = padding([btest[test['unit']==unit].values for unit in test_RUL['unit'].to_list()])\n",
    "print(btest_WINDOW_SIZE.shape)"
   ]
  },
  {
   "cell_type": "code",
   "execution_count": 53,
   "metadata": {
    "ExecuteTime": {
     "end_time": "2020-03-15T20:40:36.184461Z",
     "start_time": "2020-03-15T20:40:36.072235Z"
    }
   },
   "outputs": [],
   "source": [
    "# --- is replaces with keras.preprocessing.sequence.pad_sequence\n",
    "# btest_WINDOW_SIZE = np.array([btest[test_unit==unit].values[-WINDOW_SIZE:] \n",
    "#                            for unit in test_RUL['unit'].values \n",
    "#                            if len(btest[test_unit==unit]) >= WINDOW_SIZE])\n",
    "\n",
    "# print(btest_WINDOW_SIZE.shape)"
   ]
  },
  {
   "cell_type": "code",
   "execution_count": 54,
   "metadata": {
    "ExecuteTime": {
     "end_time": "2020-03-15T20:40:37.018842Z",
     "start_time": "2020-03-15T20:40:37.016433Z"
    }
   },
   "outputs": [],
   "source": [
    "#vali_gen = gen_random_sequences_various_units(unit_se=bdata_unit, df=bdata, target_se=bdata_logRUL, \n",
    "#                                              seq_length=WINDOW_SIZE, \n",
    "#                                              selected_units=units_tvt['vali'], batch_size=64)"
   ]
  },
  {
   "cell_type": "markdown",
   "metadata": {},
   "source": [
    "### Predict"
   ]
  },
  {
   "cell_type": "code",
   "execution_count": 55,
   "metadata": {
    "ExecuteTime": {
     "end_time": "2020-03-15T22:40:44.235602Z",
     "start_time": "2020-03-15T22:40:43.817128Z"
    }
   },
   "outputs": [],
   "source": [
    "predi_test_y = trained_model.predict(btest_WINDOW_SIZE)\n",
    "ground_truth_test_y = test_RUL['RUL'].apply(np.log1p).values"
   ]
  },
  {
   "cell_type": "code",
   "execution_count": 56,
   "metadata": {
    "ExecuteTime": {
     "end_time": "2020-03-15T22:40:45.173251Z",
     "start_time": "2020-03-15T22:40:45.167604Z"
    }
   },
   "outputs": [
    {
     "name": "stdout",
     "output_type": "stream",
     "text": [
      "MAE test 0.207\n",
      "R2 test 0.890\n"
     ]
    }
   ],
   "source": [
    "mae_test = metrics.mean_absolute_error(y_pred = predi_test_y.flatten(), y_true=ground_truth_test_y.flatten())\n",
    "print('MAE test {:.3f}'.format(mae_test))\n",
    "r2_test = metrics.r2_score(y_pred = predi_test_y.flatten(), y_true=ground_truth_test_y.flatten())\n",
    "print('R2 test {:.3f}'.format(r2_test))"
   ]
  },
  {
   "cell_type": "code",
   "execution_count": 57,
   "metadata": {},
   "outputs": [],
   "source": [
    "performance_se.loc['mae_Trubofan_test'] = mae_test\n",
    "performance_se.loc['r2_Trubofan_test'] = r2_test"
   ]
  },
  {
   "cell_type": "markdown",
   "metadata": {},
   "source": [
    "### Visualize predictions"
   ]
  },
  {
   "cell_type": "code",
   "execution_count": 58,
   "metadata": {
    "ExecuteTime": {
     "end_time": "2020-03-15T11:25:12.308482Z",
     "start_time": "2020-03-15T11:25:11.845993Z"
    }
   },
   "outputs": [
    {
     "data": {
      "image/png": "[encoded data removed]",
      "text/plain": [
       "<Figure size 1080x504 with 2 Axes>"
      ]
     },
     "metadata": {},
     "output_type": "display_data"
    }
   ],
   "source": [
    "# xy_lim=(-1,100), xy_low_lim=(-1,20)\n",
    "fig = utils.scatter_groundtruth_vs_predicted(absciss=predi_test_y.flatten(), \n",
    "                                             ordinate=ground_truth_test_y.flatten())"
   ]
  },
  {
   "cell_type": "code",
   "execution_count": 59,
   "metadata": {},
   "outputs": [
    {
     "data": {
      "text/html": [
       "<table border=\"1\" class=\"dataframe\">\n",
       "  <thead>\n",
       "    <tr style=\"text-align: right;\">\n",
       "      <th></th>\n",
       "      <th>train and validation metrics</th>\n",
       "    </tr>\n",
       "  </thead>\n",
       "  <tbody>\n",
       "    <tr>\n",
       "      <th>loss</th>\n",
       "      <td>0.1227</td>\n",
       "    </tr>\n",
       "    <tr>\n",
       "      <th>mae</th>\n",
       "      <td>0.2762</td>\n",
       "    </tr>\n",
       "    <tr>\n",
       "      <th>val_loss</th>\n",
       "      <td>0.1210</td>\n",
       "    </tr>\n",
       "    <tr>\n",
       "      <th>val_mae</th>\n",
       "      <td>0.2731</td>\n",
       "    </tr>\n",
       "    <tr>\n",
       "      <th>lr</th>\n",
       "      <td>0.0010</td>\n",
       "    </tr>\n",
       "    <tr>\n",
       "      <th>mae_holdout</th>\n",
       "      <td>0.2652</td>\n",
       "    </tr>\n",
       "    <tr>\n",
       "      <th>r2_holdout</th>\n",
       "      <td>0.9453</td>\n",
       "    </tr>\n",
       "    <tr>\n",
       "      <th>mae_Trubofan_test</th>\n",
       "      <td>0.2069</td>\n",
       "    </tr>\n",
       "    <tr>\n",
       "      <th>r2_Trubofan_test</th>\n",
       "      <td>0.8899</td>\n",
       "    </tr>\n",
       "  </tbody>\n",
       "</table>"
      ],
      "text/plain": [
       "<IPython.core.display.HTML object>"
      ]
     },
     "execution_count": 59,
     "metadata": {},
     "output_type": "execute_result"
    }
   ],
   "source": [
    "HTML(performance_se.to_frame(name='train and validation metrics').to_html())    "
   ]
  },
  {
   "cell_type": "markdown",
   "metadata": {},
   "source": [
    "## Questions to discuss?\n",
    "\n",
    "* What would be your next step in developing/improving this model?\n",
    "* What major concern about these results do you see from the business-user viewpoint?\n",
    "* How would you as Senior Machine Learning Engineer address these concerns?"
   ]
  },
  {
   "cell_type": "markdown",
   "metadata": {},
   "source": [
    "## Moving to production code\n",
    "\n",
    "* check that train and test data are consistent\n",
    "* after training not only the model should be saved, but also the baseline\n",
    "* since train/validation results are close, train on the whole dataset without concern of overfitting"
   ]
  },
  {
   "cell_type": "code",
   "execution_count": null,
   "metadata": {},
   "outputs": [],
   "source": []
  }
 ],
 "metadata": {
  "kernelspec": {
   "display_name": "Python 3",
   "language": "python",
   "name": "python3"
  },
  "language_info": {
   "codemirror_mode": {
    "name": "ipython",
    "version": 3
   },
   "file_extension": ".py",
   "mimetype": "text/x-python",
   "name": "python",
   "nbconvert_exporter": "python",
   "pygments_lexer": "ipython3",
   "version": "3.9.5"
  },
  "toc": {
   "base_numbering": 1,
   "nav_menu": {},
   "number_sections": true,
   "sideBar": true,
   "skip_h1_title": false,
   "title_cell": "Table of Contents",
   "title_sidebar": "Contents",
   "toc_cell": false,
   "toc_position": {
    "height": "671.818px",
    "left": "47.9972px",
    "top": "110.284px",
    "width": "346.516px"
   },
   "toc_section_display": true,
   "toc_window_display": true
  },
  "varInspector": {
   "cols": {
    "lenName": 16,
    "lenType": 16,
    "lenVar": 40
   },
   "kernels_config": {
    "python": {
     "delete_cmd_postfix": "",
     "delete_cmd_prefix": "del ",
     "library": "var_list.py",
     "varRefreshCmd": "print(var_dic_list())"
    },
    "r": {
     "delete_cmd_postfix": ") ",
     "delete_cmd_prefix": "rm(",
     "library": "var_list.r",
     "varRefreshCmd": "cat(var_dic_list()) "
    }
   },
   "types_to_exclude": [
    "module",
    "function",
    "builtin_function_or_method",
    "instance",
    "_Feature"
   ],
   "window_display": false
  }
 },
 "nbformat": 4,
 "nbformat_minor": 4
}
